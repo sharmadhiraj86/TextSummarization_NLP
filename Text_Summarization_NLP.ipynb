{
  "nbformat": 4,
  "nbformat_minor": 0,
  "metadata": {
    "colab": {
      "provenance": []
    },
    "kernelspec": {
      "name": "python3",
      "display_name": "Python 3"
    },
    "language_info": {
      "name": "python"
    }
  },
  "cells": [
    {
      "cell_type": "code",
      "execution_count": null,
      "metadata": {
        "id": "u-Wr1uV8Rs_z"
      },
      "outputs": [],
      "source": [
        "text = \"\"\"India, officially the Republic of India (Hindi: Bhārat Gaṇarājya),[23] is a country in South Asia. It is the second-most populous country, the seventh-largest country by area, and the most populous democracy in the world. Bounded by the Indian Ocean on the south, the Arabian Sea on the southwest, and the Bay of Bengal on the southeast, it shares land borders with Pakistan to the west;[f] China, Nepal, and Bhutan to the north; and Bangladesh and Myanmar to the east. In the Indian Ocean, India is in the vicinity of Sri Lanka and the Maldives; its Andaman and Nicobar Islands share a maritime border with Thailand and Indonesia. Modern humans arrived on the Indian subcontinent from Africa no later than 55,000 years ago.[24] Their long occupation, initially in varying forms of isolation as hunter-gatherers, has made the region highly diverse, second only to Africa in human genetic diversity.[25] Settled life emerged on the subcontinent in the western margins of the Indus river basin 9,000 years ago, evolving gradually into the Indus Valley Civilisation of the third millennium BCE.[26] By 1200 BCE, an archaic form of Sanskrit, an Indo-European language, had diffused into India from the northwest, unfolding as the language of the Rigveda, and recording the dawning of Hinduism in India.[27] The Dravidian languages of India were supplanted in the northern regions.[28] By 400 BCE, stratification and exclusion by caste had emerged within Hinduism,[29] and Buddhism and Jainism had arisen, proclaiming social orders unlinked to heredity.[30] Early political consolidations gave rise to the loose-knit Maurya and Gupta Empires based in the Ganges Basin.[31] Their collective era was suffused with wide-ranging creativity,[32] but also marked by the declining status of women,[33] and the incorporation of untouchability into an organised system of belief.[g][34] In South India, the Middle kingdoms exported Dravidian-languages scripts and religious cultures to the kingdoms of Southeast Asia. In the early medieval era, Christianity, Islam, Judaism, and Zoroastrianism put down roots on India's southern and western coasts. Muslim armies from Central Asia intermittently overran India's northern plains,[37] eventually establishing the Delhi Sultanate, and drawing northern India into the cosmopolitan networks of medieval Islam.[38] In the 15th century, the Vijayanagara Empire created a long-lasting composite Hindu culture in south India.[39] In the Punjab, Sikhism emerged, rejecting institutionalised religion.[40] The Mughal Empire, in 1526, ushered in two centuries of relative peace,[41] leaving a legacy of luminous architecture.[h][42] Gradually expanding rule of the British East India Company followed, turning India into a colonial economy, but also consolidating its sovereignty.[43] British Crown rule began in 1858. The rights promised to Indians were granted slowly,[44] but technological changes were introduced, and ideas of education, modernity and the public life took root.[45] A pioneering and influential nationalist movement emerged,[46] which was noted for nonviolent resistance and led India to its independence in 1947.\n",
        "\"\"\".replace('\\n',' ')"
      ]
    },
    {
      "cell_type": "code",
      "source": [
        "import numpy as np\n",
        "import pandas as pd\n",
        "import matplotlib.pyplot as plt\n",
        "from matplotlib.colors import LinearSegmentedColormap\n",
        "import os\n",
        "import nltk\n",
        "import re\n",
        "import math\n",
        "import operator\n",
        "from nltk.stem import PorterStemmer\n",
        "from nltk.stem import WordNetLemmatizer\n",
        "from nltk.tokenize import word_tokenize, sent_tokenize\n",
        "from nltk import pos_tag     # POS tagging\n",
        "from nltk.corpus import stopwords , state_union\n",
        "from nltk.tokenize import PunktSentenceTokenizer\n",
        "import spacy\n",
        "from spacy import displacy   # for Visualization\n",
        "from string import punctuation\n",
        "from IPython.display import HTML\n",
        "from scipy.stats import norm\n",
        "# Downloading Files\n",
        "nltk.download('averaged_perceptron_tagger')\n",
        "nltk.download('wordnet')\n",
        "nlp = spacy.load('en_core_web_sm')\n",
        "wordlemmatizer = WordNetLemmatizer()\n",
        "stemmer = PorterStemmer()\n",
        "nltk.download('stopwords')\n",
        "nltk.download('punkt')\n",
        "Stopwords = set(stopwords.words('english'))"
      ],
      "metadata": {
        "colab": {
          "base_uri": "https://localhost:8080/"
        },
        "id": "aBG58E4Lga_X",
        "outputId": "8e31777e-510b-42cf-a85c-f41e68f9ce72"
      },
      "execution_count": null,
      "outputs": [
        {
          "output_type": "stream",
          "name": "stderr",
          "text": [
            "[nltk_data] Downloading package averaged_perceptron_tagger to\n",
            "[nltk_data]     /root/nltk_data...\n",
            "[nltk_data]   Unzipping taggers/averaged_perceptron_tagger.zip.\n",
            "[nltk_data] Downloading package wordnet to /root/nltk_data...\n",
            "[nltk_data] Downloading package stopwords to /root/nltk_data...\n",
            "[nltk_data]   Unzipping corpora/stopwords.zip.\n",
            "[nltk_data] Downloading package punkt to /root/nltk_data...\n",
            "[nltk_data]   Unzipping tokenizers/punkt.zip.\n"
          ]
        }
      ]
    },
    {
      "cell_type": "code",
      "source": [
        "# Tokenization using NLTK library\n",
        "words = word_tokenize(text)\n",
        "vis = words\n",
        "words[:10]"
      ],
      "metadata": {
        "colab": {
          "base_uri": "https://localhost:8080/"
        },
        "id": "105E92KDvkCL",
        "outputId": "879be9f1-370d-40e6-ef4c-37a24667787f"
      },
      "execution_count": null,
      "outputs": [
        {
          "output_type": "execute_result",
          "data": {
            "text/plain": [
              "['India',\n",
              " ',',\n",
              " 'officially',\n",
              " 'the',\n",
              " 'Republic',\n",
              " 'of',\n",
              " 'India',\n",
              " '(',\n",
              " 'Hindi',\n",
              " ':']"
            ]
          },
          "metadata": {},
          "execution_count": 5
        }
      ]
    },
    {
      "cell_type": "code",
      "source": [
        "# Sentence Tokenization\n",
        "i = 1\n",
        "sentences = sent_tokenize(text)\n",
        "for sen in sentences:\n",
        "    if i <= 5:\n",
        "        i+=1\n",
        "        print(sen,\"\\n\")\n",
        "        print('--'*65)"
      ],
      "metadata": {
        "id": "7ID6wec_wXi0",
        "colab": {
          "base_uri": "https://localhost:8080/"
        },
        "outputId": "da87e865-5598-42c3-b01a-8ea36915fb4a"
      },
      "execution_count": null,
      "outputs": [
        {
          "output_type": "stream",
          "name": "stdout",
          "text": [
            "India, officially the Republic of India (Hindi: Bhārat Gaṇarājya),[23] is a country in South Asia. \n",
            "\n",
            "----------------------------------------------------------------------------------------------------------------------------------\n",
            "It is the second-most populous country, the seventh-largest country by area, and the most populous democracy in the world. \n",
            "\n",
            "----------------------------------------------------------------------------------------------------------------------------------\n",
            "Bounded by the Indian Ocean on the south, the Arabian Sea on the southwest, and the Bay of Bengal on the southeast, it shares land borders with Pakistan to the west;[f] China, Nepal, and Bhutan to the north; and Bangladesh and Myanmar to the east. \n",
            "\n",
            "----------------------------------------------------------------------------------------------------------------------------------\n",
            "In the Indian Ocean, India is in the vicinity of Sri Lanka and the Maldives; its Andaman and Nicobar Islands share a maritime border with Thailand and Indonesia. \n",
            "\n",
            "----------------------------------------------------------------------------------------------------------------------------------\n",
            "Modern humans arrived on the Indian subcontinent from Africa no later than 55,000 years ago. \n",
            "\n",
            "----------------------------------------------------------------------------------------------------------------------------------\n"
          ]
        }
      ]
    },
    {
      "cell_type": "code",
      "source": [
        "# Lowercasing all the words\n",
        "def lowercasing(word):\n",
        "    return word.lower()\n",
        "words = [lowercasing(word) for word in words]\n",
        "print(words[:10])"
      ],
      "metadata": {
        "colab": {
          "base_uri": "https://localhost:8080/"
        },
        "id": "x2z3RgiXxNgE",
        "outputId": "9cef0793-a536-49aa-e369-485ae1af1293"
      },
      "execution_count": null,
      "outputs": [
        {
          "output_type": "stream",
          "name": "stdout",
          "text": [
            "['india', ',', 'officially', 'the', 'republic', 'of', 'india', '(', 'hindi', ':']\n"
          ]
        }
      ]
    },
    {
      "cell_type": "code",
      "source": [
        "# Contraction mapping\n",
        "contraction_mapping = {\n",
        "    \"ain't\": \"is not\", \"aren't\": \"are not\", \"can't\": \"cannot\", \"'cause\": \"because\", \"could've\": \"could have\", \"couldn't\": \"could not\",\"didn't\": \"did not\", \"doesn't\": \"does not\", \"don't\": \"do not\", \"hadn't\": \"had not\", \"hasn't\": \"has not\", \"haven't\": \"have not\",\"he'd\": \"he would\", \"he'll\": \"he will\", \"he's\": \"he is\", \"how'd\": \"how did\", \"how'd'y\": \"how do you\", \"how'll\": \"how will\", \"how's\": \"how is\",\n",
        "    \"I'd\": \"I would\", \"I'd've\": \"I would have\", \"I'll\": \"I will\", \"I'll've\": \"I will have\", \"I'm\": \"I am\", \"I've\": \"I have\", \"i'd\": \"i would\",\"i'd've\": \"i would have\", \"i'll\": \"i will\",  \"i'll've\": \"i will have\", \"i'm\": \"i am\", \"i've\": \"i have\", \"isn't\": \"is not\", \"it'd\": \"it would\",\"it'd've\": \"it would have\", \"it'll\": \"it will\", \"it'll've\": \"it will have\", \"it's\": \"it is\", \"let's\": \"let us\", \"ma'am\": \"madam\",\"mayn't\": \"may not\", \"might've\": \"might have\", \"mightn't\": \"might not\", \"mightn't've\": \"might not have\", \"must've\": \"must have\",\n",
        "    \"mustn't\": \"must not\", \"mustn't've\": \"must not have\", \"needn't\": \"need not\", \"needn't've\": \"need not have\", \"o'clock\": \"of the clock\",\"oughtn't\": \"ought not\", \"oughtn't've\": \"ought not have\", \"shan't\": \"shall not\", \"sha'n't\": \"shall not\", \"shan't've\": \"shall not have\",\"she'd\": \"she would\", \"she'd've\": \"she would have\", \"she'll\": \"she will\", \"she'll've\": \"she will have\", \"she's\": \"she is\",\n",
        "    \"should've\": \"should have\", \"shouldn't\": \"should not\", \"shouldn't've\": \"should not have\", \"so've\": \"so have\", \"so's\": \"so as\",\"this's\": \"this is\", \"that'd\": \"that would\", \"that'd've\": \"that would have\", \"that's\": \"that is\", \"there'd\": \"there would\",\"there'd've\": \"there would have\", \"there's\": \"there is\", \"here's\": \"here is\", \"they'd\": \"they would\", \"they'd've\": \"they would have\",\"they'll\": \"they will\", \"they'll've\": \"they will have\", \"they're\": \"they are\", \"they've\": \"they have\", \"to've\": \"to have\",\"wasn't\": \"was not\", \"we'd\": \"we would\", \"we'd've\": \"we would have\", \"we'll\": \"we will\", \"we'll've\": \"we will have\", \"we're\": \"we are\",\"we've\": \"we have\", \"weren't\": \"were not\", \"what'll\": \"what will\", \"what'll've\": \"what will have\", \"what're\": \"what are\",\n",
        "    \"what's\": \"what is\", \"what've\": \"what have\", \"when's\": \"when is\", \"when've\": \"when have\", \"where'd\": \"where did\", \"where's\": \"where is\",\"where've\": \"where have\", \"who'll\": \"who will\", \"who'll've\": \"who will have\", \"who's\": \"who is\", \"who've\": \"who have\",\"why's\": \"why is\", \"why've\": \"why have\", \"will've\": \"will have\", \"won't\": \"will not\", \"won't've\": \"will not have\",\"would've\": \"would have\", \"wouldn't\": \"would not\", \"wouldn't've\": \"would not have\", \"y'all\": \"you all\",\n",
        "    \"y'all'd\": \"you all would\", \"y'all'd've\": \"you all would have\", \"y'all're\": \"you all are\", \"y'all've\": \"you all have\",\n",
        "    \"you'd\": \"you would\", \"you'd've\": \"you would have\", \"you'll\": \"you will\", \"you'll've\": \"you will have\",\n",
        "    \"you're\": \"you are\", \"you've\": \"you have\"\n",
        "}\n",
        "\n",
        "def preprocess_text(words):\n",
        "    for contraction, expanded in contraction_mapping.items():\n",
        "        words = words.replace(contraction, expanded)\n",
        "    return words\n",
        "\n",
        "for word in words:\n",
        "    preprocess_text(word)\n",
        "vis = words"
      ],
      "metadata": {
        "id": "DJQzw-bxxxJs"
      },
      "execution_count": null,
      "outputs": []
    },
    {
      "cell_type": "code",
      "source": [
        "stopWords = list(stopwords.words(\"english\"))+list(punctuation)+list([0,1,2,3,4,5,6,7,8,9])\n",
        "stopWords[-1]"
      ],
      "metadata": {
        "colab": {
          "base_uri": "https://localhost:8080/"
        },
        "id": "DirYDhmyzTzk",
        "outputId": "a113db23-3495-4a67-c1fa-04a683380664"
      },
      "execution_count": null,
      "outputs": [
        {
          "output_type": "execute_result",
          "data": {
            "text/plain": [
              "9"
            ]
          },
          "metadata": {},
          "execution_count": 9
        }
      ]
    },
    {
      "cell_type": "code",
      "source": [
        "# Removing stop words\n",
        "without_stop = []\n",
        "def stopword_removal(word):\n",
        "    if word not in stopWords:\n",
        "        without_stop.append(word)\n",
        "for word in words:\n",
        "    stopword_removal(word)\n",
        "words = without_stop\n",
        "vis = words\n",
        "print(len(vis))\n",
        "vis2 = list(set(vis))\n",
        "print(vis)"
      ],
      "metadata": {
        "colab": {
          "base_uri": "https://localhost:8080/"
        },
        "id": "gm1M3Y4Z12Mn",
        "outputId": "846fc037-ccdb-4f78-8fb9-4e765f89bcbd"
      },
      "execution_count": null,
      "outputs": [
        {
          "output_type": "stream",
          "name": "stdout",
          "text": [
            "316\n",
            "['india', 'officially', 'republic', 'india', 'hindi', 'bhārat', 'gaṇarājya', '23', 'country', 'south', 'asia', 'second-most', 'populous', 'country', 'seventh-largest', 'country', 'area', 'populous', 'democracy', 'world', 'bounded', 'indian', 'ocean', 'south', 'arabian', 'sea', 'southwest', 'bay', 'bengal', 'southeast', 'shares', 'land', 'borders', 'pakistan', 'west', 'f', 'china', 'nepal', 'bhutan', 'north', 'bangladesh', 'myanmar', 'east', 'indian', 'ocean', 'india', 'vicinity', 'sri', 'lanka', 'maldives', 'andaman', 'nicobar', 'islands', 'share', 'maritime', 'border', 'thailand', 'indonesia', 'modern', 'humans', 'arrived', 'indian', 'subcontinent', 'africa', 'later', '55,000', 'years', 'ago', '24', 'long', 'occupation', 'initially', 'varying', 'forms', 'isolation', 'hunter-gatherers', 'made', 'region', 'highly', 'diverse', 'second', 'africa', 'human', 'genetic', 'diversity', '25', 'settled', 'life', 'emerged', 'subcontinent', 'western', 'margins', 'indus', 'river', 'basin', '9,000', 'years', 'ago', 'evolving', 'gradually', 'indus', 'valley', 'civilisation', 'third', 'millennium', 'bce', '26', '1200', 'bce', 'archaic', 'form', 'sanskrit', 'indo-european', 'language', 'diffused', 'india', 'northwest', 'unfolding', 'language', 'rigveda', 'recording', 'dawning', 'hinduism', 'india', '27', 'dravidian', 'languages', 'india', 'supplanted', 'northern', 'regions', '28', '400', 'bce', 'stratification', 'exclusion', 'caste', 'emerged', 'within', 'hinduism', '29', 'buddhism', 'jainism', 'arisen', 'proclaiming', 'social', 'orders', 'unlinked', 'heredity', '30', 'early', 'political', 'consolidations', 'gave', 'rise', 'loose-knit', 'maurya', 'gupta', 'empires', 'based', 'ganges', 'basin', '31', 'collective', 'era', 'suffused', 'wide-ranging', 'creativity', '32', 'also', 'marked', 'declining', 'status', 'women', '33', 'incorporation', 'untouchability', 'organised', 'system', 'belief', 'g', '34', 'south', 'india', 'middle', 'kingdoms', 'exported', 'dravidian-languages', 'scripts', 'religious', 'cultures', 'kingdoms', 'southeast', 'asia', 'early', 'medieval', 'era', 'christianity', 'islam', 'judaism', 'zoroastrianism', 'put', 'roots', 'india', \"'s\", 'southern', 'western', 'coasts', 'muslim', 'armies', 'central', 'asia', 'intermittently', 'overran', 'india', \"'s\", 'northern', 'plains', '37', 'eventually', 'establishing', 'delhi', 'sultanate', 'drawing', 'northern', 'india', 'cosmopolitan', 'networks', 'medieval', 'islam', '38', '15th', 'century', 'vijayanagara', 'empire', 'created', 'long-lasting', 'composite', 'hindu', 'culture', 'south', 'india', '39', 'punjab', 'sikhism', 'emerged', 'rejecting', 'institutionalised', 'religion', '40', 'mughal', 'empire', '1526', 'ushered', 'two', 'centuries', 'relative', 'peace', '41', 'leaving', 'legacy', 'luminous', 'architecture', 'h', '42', 'gradually', 'expanding', 'rule', 'british', 'east', 'india', 'company', 'followed', 'turning', 'india', 'colonial', 'economy', 'also', 'consolidating', 'sovereignty', '43', 'british', 'crown', 'rule', 'began', '1858', 'rights', 'promised', 'indians', 'granted', 'slowly', '44', 'technological', 'changes', 'introduced', 'ideas', 'education', 'modernity', 'public', 'life', 'took', 'root', '45', 'pioneering', 'influential', 'nationalist', 'movement', 'emerged', '46', 'noted', 'nonviolent', 'resistance', 'led', 'india', 'independence', '1947']\n"
          ]
        }
      ]
    },
    {
      "cell_type": "code",
      "source": [
        "# Stemming\n",
        "stemmed_words = []\n",
        "for word in words:\n",
        "    stemmed = stemmer.stem(word)\n",
        "    stemmed_words.append(stemmed)\n",
        "words = stemmed_words\n",
        "words[:10]"
      ],
      "metadata": {
        "colab": {
          "base_uri": "https://localhost:8080/"
        },
        "id": "VmyefhUS2Kk1",
        "outputId": "943e9ca4-7bdd-41f8-d982-4a3a078218d4"
      },
      "execution_count": null,
      "outputs": [
        {
          "output_type": "execute_result",
          "data": {
            "text/plain": [
              "['india',\n",
              " 'offici',\n",
              " 'republ',\n",
              " 'india',\n",
              " 'hindi',\n",
              " 'bhārat',\n",
              " 'gaṇarājya',\n",
              " '23',\n",
              " 'countri',\n",
              " 'south']"
            ]
          },
          "metadata": {},
          "execution_count": 11
        }
      ]
    },
    {
      "cell_type": "code",
      "source": [
        "# Lemmatization\n",
        "lemmatized_words = []\n",
        "for word in words:\n",
        "    lemmatized_words.append(wordlemmatizer.lemmatize(word))\n",
        "words = lemmatized_words\n",
        "words[:10]"
      ],
      "metadata": {
        "colab": {
          "base_uri": "https://localhost:8080/"
        },
        "id": "GwHEMM8N2T-E",
        "outputId": "e582112a-21b8-4380-f760-cfefb87c0c13"
      },
      "execution_count": null,
      "outputs": [
        {
          "output_type": "execute_result",
          "data": {
            "text/plain": [
              "['india',\n",
              " 'offici',\n",
              " 'republ',\n",
              " 'india',\n",
              " 'hindi',\n",
              " 'bhārat',\n",
              " 'gaṇarājya',\n",
              " '23',\n",
              " 'countri',\n",
              " 'south']"
            ]
          },
          "metadata": {},
          "execution_count": 12
        }
      ]
    },
    {
      "cell_type": "code",
      "source": [
        "#  Part Of Speech (POS) Tagging\n",
        "for i in sentences[ : 1]:\n",
        "    for w, t in pos_tag(words) :\n",
        "        print (f'Word :( {w :{7}} )    Type : (   {t :{5}} )    means : {spacy.explain(t)}')\n",
        "        print('-----------------------------------------------------------------------------------------------------')\n",
        "\n",
        "    print(\"\\n########################################################################################################\\n\")"
      ],
      "metadata": {
        "colab": {
          "base_uri": "https://localhost:8080/"
        },
        "id": "AYyUjs7l2lzd",
        "outputId": "c5332905-18cc-4a33-d095-f0618fa8e983"
      },
      "execution_count": null,
      "outputs": [
        {
          "output_type": "stream",
          "name": "stdout",
          "text": [
            "Word :( india   )    Type : (   NN    )    means : noun, singular or mass\n",
            "-----------------------------------------------------------------------------------------------------\n",
            "Word :( offici  )    Type : (   NN    )    means : noun, singular or mass\n",
            "-----------------------------------------------------------------------------------------------------\n",
            "Word :( republ  )    Type : (   NN    )    means : noun, singular or mass\n",
            "-----------------------------------------------------------------------------------------------------\n",
            "Word :( india   )    Type : (   NN    )    means : noun, singular or mass\n",
            "-----------------------------------------------------------------------------------------------------\n",
            "Word :( hindi   )    Type : (   NN    )    means : noun, singular or mass\n",
            "-----------------------------------------------------------------------------------------------------\n",
            "Word :( bhārat  )    Type : (   NN    )    means : noun, singular or mass\n",
            "-----------------------------------------------------------------------------------------------------\n",
            "Word :( gaṇarājya )    Type : (   VBD   )    means : verb, past tense\n",
            "-----------------------------------------------------------------------------------------------------\n",
            "Word :( 23      )    Type : (   CD    )    means : cardinal number\n",
            "-----------------------------------------------------------------------------------------------------\n",
            "Word :( countri )    Type : (   NN    )    means : noun, singular or mass\n",
            "-----------------------------------------------------------------------------------------------------\n",
            "Word :( south   )    Type : (   JJ    )    means : adjective (English), other noun-modifier (Chinese)\n",
            "-----------------------------------------------------------------------------------------------------\n",
            "Word :( asia    )    Type : (   JJ    )    means : adjective (English), other noun-modifier (Chinese)\n",
            "-----------------------------------------------------------------------------------------------------\n",
            "Word :( second-most )    Type : (   JJ    )    means : adjective (English), other noun-modifier (Chinese)\n",
            "-----------------------------------------------------------------------------------------------------\n",
            "Word :( popul   )    Type : (   NN    )    means : noun, singular or mass\n",
            "-----------------------------------------------------------------------------------------------------\n",
            "Word :( countri )    Type : (   NN    )    means : noun, singular or mass\n",
            "-----------------------------------------------------------------------------------------------------\n",
            "Word :( seventh-largest )    Type : (   JJ    )    means : adjective (English), other noun-modifier (Chinese)\n",
            "-----------------------------------------------------------------------------------------------------\n",
            "Word :( countri )    Type : (   JJ    )    means : adjective (English), other noun-modifier (Chinese)\n",
            "-----------------------------------------------------------------------------------------------------\n",
            "Word :( area    )    Type : (   NN    )    means : noun, singular or mass\n",
            "-----------------------------------------------------------------------------------------------------\n",
            "Word :( popul   )    Type : (   NN    )    means : noun, singular or mass\n",
            "-----------------------------------------------------------------------------------------------------\n",
            "Word :( democraci )    Type : (   NN    )    means : noun, singular or mass\n",
            "-----------------------------------------------------------------------------------------------------\n",
            "Word :( world   )    Type : (   NN    )    means : noun, singular or mass\n",
            "-----------------------------------------------------------------------------------------------------\n",
            "Word :( bound   )    Type : (   NN    )    means : noun, singular or mass\n",
            "-----------------------------------------------------------------------------------------------------\n",
            "Word :( indian  )    Type : (   JJ    )    means : adjective (English), other noun-modifier (Chinese)\n",
            "-----------------------------------------------------------------------------------------------------\n",
            "Word :( ocean   )    Type : (   NN    )    means : noun, singular or mass\n",
            "-----------------------------------------------------------------------------------------------------\n",
            "Word :( south   )    Type : (   NN    )    means : noun, singular or mass\n",
            "-----------------------------------------------------------------------------------------------------\n",
            "Word :( arabian )    Type : (   JJ    )    means : adjective (English), other noun-modifier (Chinese)\n",
            "-----------------------------------------------------------------------------------------------------\n",
            "Word :( sea     )    Type : (   NN    )    means : noun, singular or mass\n",
            "-----------------------------------------------------------------------------------------------------\n",
            "Word :( southwest )    Type : (   JJS   )    means : adjective, superlative\n",
            "-----------------------------------------------------------------------------------------------------\n",
            "Word :( bay     )    Type : (   NN    )    means : noun, singular or mass\n",
            "-----------------------------------------------------------------------------------------------------\n",
            "Word :( bengal  )    Type : (   NN    )    means : noun, singular or mass\n",
            "-----------------------------------------------------------------------------------------------------\n",
            "Word :( southeast )    Type : (   NN    )    means : noun, singular or mass\n",
            "-----------------------------------------------------------------------------------------------------\n",
            "Word :( share   )    Type : (   NN    )    means : noun, singular or mass\n",
            "-----------------------------------------------------------------------------------------------------\n",
            "Word :( land    )    Type : (   NN    )    means : noun, singular or mass\n",
            "-----------------------------------------------------------------------------------------------------\n",
            "Word :( border  )    Type : (   NN    )    means : noun, singular or mass\n",
            "-----------------------------------------------------------------------------------------------------\n",
            "Word :( pakistan )    Type : (   NN    )    means : noun, singular or mass\n",
            "-----------------------------------------------------------------------------------------------------\n",
            "Word :( west    )    Type : (   NN    )    means : noun, singular or mass\n",
            "-----------------------------------------------------------------------------------------------------\n",
            "Word :( f       )    Type : (   JJ    )    means : adjective (English), other noun-modifier (Chinese)\n",
            "-----------------------------------------------------------------------------------------------------\n",
            "Word :( china   )    Type : (   NN    )    means : noun, singular or mass\n",
            "-----------------------------------------------------------------------------------------------------\n",
            "Word :( nepal   )    Type : (   JJ    )    means : adjective (English), other noun-modifier (Chinese)\n",
            "-----------------------------------------------------------------------------------------------------\n",
            "Word :( bhutan  )    Type : (   JJ    )    means : adjective (English), other noun-modifier (Chinese)\n",
            "-----------------------------------------------------------------------------------------------------\n",
            "Word :( north   )    Type : (   NN    )    means : noun, singular or mass\n",
            "-----------------------------------------------------------------------------------------------------\n",
            "Word :( bangladesh )    Type : (   JJ    )    means : adjective (English), other noun-modifier (Chinese)\n",
            "-----------------------------------------------------------------------------------------------------\n",
            "Word :( myanmar )    Type : (   NN    )    means : noun, singular or mass\n",
            "-----------------------------------------------------------------------------------------------------\n",
            "Word :( east    )    Type : (   JJ    )    means : adjective (English), other noun-modifier (Chinese)\n",
            "-----------------------------------------------------------------------------------------------------\n",
            "Word :( indian  )    Type : (   JJ    )    means : adjective (English), other noun-modifier (Chinese)\n",
            "-----------------------------------------------------------------------------------------------------\n",
            "Word :( ocean   )    Type : (   NN    )    means : noun, singular or mass\n",
            "-----------------------------------------------------------------------------------------------------\n",
            "Word :( india   )    Type : (   NN    )    means : noun, singular or mass\n",
            "-----------------------------------------------------------------------------------------------------\n",
            "Word :( vicin   )    Type : (   NN    )    means : noun, singular or mass\n",
            "-----------------------------------------------------------------------------------------------------\n",
            "Word :( sri     )    Type : (   NN    )    means : noun, singular or mass\n",
            "-----------------------------------------------------------------------------------------------------\n",
            "Word :( lanka   )    Type : (   NN    )    means : noun, singular or mass\n",
            "-----------------------------------------------------------------------------------------------------\n",
            "Word :( maldiv  )    Type : (   NN    )    means : noun, singular or mass\n",
            "-----------------------------------------------------------------------------------------------------\n",
            "Word :( andaman )    Type : (   JJ    )    means : adjective (English), other noun-modifier (Chinese)\n",
            "-----------------------------------------------------------------------------------------------------\n",
            "Word :( nicobar )    Type : (   NN    )    means : noun, singular or mass\n",
            "-----------------------------------------------------------------------------------------------------\n",
            "Word :( island  )    Type : (   NN    )    means : noun, singular or mass\n",
            "-----------------------------------------------------------------------------------------------------\n",
            "Word :( share   )    Type : (   NN    )    means : noun, singular or mass\n",
            "-----------------------------------------------------------------------------------------------------\n",
            "Word :( maritim )    Type : (   JJ    )    means : adjective (English), other noun-modifier (Chinese)\n",
            "-----------------------------------------------------------------------------------------------------\n",
            "Word :( border  )    Type : (   NN    )    means : noun, singular or mass\n",
            "-----------------------------------------------------------------------------------------------------\n",
            "Word :( thailand )    Type : (   NN    )    means : noun, singular or mass\n",
            "-----------------------------------------------------------------------------------------------------\n",
            "Word :( indonesia )    Type : (   NN    )    means : noun, singular or mass\n",
            "-----------------------------------------------------------------------------------------------------\n",
            "Word :( modern  )    Type : (   JJ    )    means : adjective (English), other noun-modifier (Chinese)\n",
            "-----------------------------------------------------------------------------------------------------\n",
            "Word :( human   )    Type : (   JJ    )    means : adjective (English), other noun-modifier (Chinese)\n",
            "-----------------------------------------------------------------------------------------------------\n",
            "Word :( arriv   )    Type : (   NN    )    means : noun, singular or mass\n",
            "-----------------------------------------------------------------------------------------------------\n",
            "Word :( indian  )    Type : (   JJ    )    means : adjective (English), other noun-modifier (Chinese)\n",
            "-----------------------------------------------------------------------------------------------------\n",
            "Word :( subcontin )    Type : (   NN    )    means : noun, singular or mass\n",
            "-----------------------------------------------------------------------------------------------------\n",
            "Word :( africa  )    Type : (   NN    )    means : noun, singular or mass\n",
            "-----------------------------------------------------------------------------------------------------\n",
            "Word :( later   )    Type : (   RB    )    means : adverb\n",
            "-----------------------------------------------------------------------------------------------------\n",
            "Word :( 55,000  )    Type : (   CD    )    means : cardinal number\n",
            "-----------------------------------------------------------------------------------------------------\n",
            "Word :( year    )    Type : (   NN    )    means : noun, singular or mass\n",
            "-----------------------------------------------------------------------------------------------------\n",
            "Word :( ago     )    Type : (   RB    )    means : adverb\n",
            "-----------------------------------------------------------------------------------------------------\n",
            "Word :( 24      )    Type : (   CD    )    means : cardinal number\n",
            "-----------------------------------------------------------------------------------------------------\n",
            "Word :( long    )    Type : (   JJ    )    means : adjective (English), other noun-modifier (Chinese)\n",
            "-----------------------------------------------------------------------------------------------------\n",
            "Word :( occup   )    Type : (   NN    )    means : noun, singular or mass\n",
            "-----------------------------------------------------------------------------------------------------\n",
            "Word :( initi   )    Type : (   NN    )    means : noun, singular or mass\n",
            "-----------------------------------------------------------------------------------------------------\n",
            "Word :( vari    )    Type : (   JJ    )    means : adjective (English), other noun-modifier (Chinese)\n",
            "-----------------------------------------------------------------------------------------------------\n",
            "Word :( form    )    Type : (   NN    )    means : noun, singular or mass\n",
            "-----------------------------------------------------------------------------------------------------\n",
            "Word :( isol    )    Type : (   NN    )    means : noun, singular or mass\n",
            "-----------------------------------------------------------------------------------------------------\n",
            "Word :( hunter-gather )    Type : (   NN    )    means : noun, singular or mass\n",
            "-----------------------------------------------------------------------------------------------------\n",
            "Word :( made    )    Type : (   VBN   )    means : verb, past participle\n",
            "-----------------------------------------------------------------------------------------------------\n",
            "Word :( region  )    Type : (   NN    )    means : noun, singular or mass\n",
            "-----------------------------------------------------------------------------------------------------\n",
            "Word :( highli  )    Type : (   NN    )    means : noun, singular or mass\n",
            "-----------------------------------------------------------------------------------------------------\n",
            "Word :( diver   )    Type : (   IN    )    means : conjunction, subordinating or preposition\n",
            "-----------------------------------------------------------------------------------------------------\n",
            "Word :( second  )    Type : (   JJ    )    means : adjective (English), other noun-modifier (Chinese)\n",
            "-----------------------------------------------------------------------------------------------------\n",
            "Word :( africa  )    Type : (   JJ    )    means : adjective (English), other noun-modifier (Chinese)\n",
            "-----------------------------------------------------------------------------------------------------\n",
            "Word :( human   )    Type : (   JJ    )    means : adjective (English), other noun-modifier (Chinese)\n",
            "-----------------------------------------------------------------------------------------------------\n",
            "Word :( genet   )    Type : (   NN    )    means : noun, singular or mass\n",
            "-----------------------------------------------------------------------------------------------------\n",
            "Word :( diver   )    Type : (   NN    )    means : noun, singular or mass\n",
            "-----------------------------------------------------------------------------------------------------\n",
            "Word :( 25      )    Type : (   CD    )    means : cardinal number\n",
            "-----------------------------------------------------------------------------------------------------\n",
            "Word :( settl   )    Type : (   JJ    )    means : adjective (English), other noun-modifier (Chinese)\n",
            "-----------------------------------------------------------------------------------------------------\n",
            "Word :( life    )    Type : (   NN    )    means : noun, singular or mass\n",
            "-----------------------------------------------------------------------------------------------------\n",
            "Word :( emerg   )    Type : (   NN    )    means : noun, singular or mass\n",
            "-----------------------------------------------------------------------------------------------------\n",
            "Word :( subcontin )    Type : (   NN    )    means : noun, singular or mass\n",
            "-----------------------------------------------------------------------------------------------------\n",
            "Word :( western )    Type : (   JJ    )    means : adjective (English), other noun-modifier (Chinese)\n",
            "-----------------------------------------------------------------------------------------------------\n",
            "Word :( margin  )    Type : (   NN    )    means : noun, singular or mass\n",
            "-----------------------------------------------------------------------------------------------------\n",
            "Word :( indu    )    Type : (   NN    )    means : noun, singular or mass\n",
            "-----------------------------------------------------------------------------------------------------\n",
            "Word :( river   )    Type : (   NN    )    means : noun, singular or mass\n",
            "-----------------------------------------------------------------------------------------------------\n",
            "Word :( basin   )    Type : (   NN    )    means : noun, singular or mass\n",
            "-----------------------------------------------------------------------------------------------------\n",
            "Word :( 9,000   )    Type : (   CD    )    means : cardinal number\n",
            "-----------------------------------------------------------------------------------------------------\n",
            "Word :( year    )    Type : (   NN    )    means : noun, singular or mass\n",
            "-----------------------------------------------------------------------------------------------------\n",
            "Word :( ago     )    Type : (   RB    )    means : adverb\n",
            "-----------------------------------------------------------------------------------------------------\n",
            "Word :( evolv   )    Type : (   VBD   )    means : verb, past tense\n",
            "-----------------------------------------------------------------------------------------------------\n",
            "Word :( gradual )    Type : (   JJ    )    means : adjective (English), other noun-modifier (Chinese)\n",
            "-----------------------------------------------------------------------------------------------------\n",
            "Word :( indu    )    Type : (   NN    )    means : noun, singular or mass\n",
            "-----------------------------------------------------------------------------------------------------\n",
            "Word :( valley  )    Type : (   NN    )    means : noun, singular or mass\n",
            "-----------------------------------------------------------------------------------------------------\n",
            "Word :( civilis )    Type : (   NN    )    means : noun, singular or mass\n",
            "-----------------------------------------------------------------------------------------------------\n",
            "Word :( third   )    Type : (   JJ    )    means : adjective (English), other noun-modifier (Chinese)\n",
            "-----------------------------------------------------------------------------------------------------\n",
            "Word :( millennium )    Type : (   NN    )    means : noun, singular or mass\n",
            "-----------------------------------------------------------------------------------------------------\n",
            "Word :( bce     )    Type : (   VBD   )    means : verb, past tense\n",
            "-----------------------------------------------------------------------------------------------------\n",
            "Word :( 26      )    Type : (   CD    )    means : cardinal number\n",
            "-----------------------------------------------------------------------------------------------------\n",
            "Word :( 1200    )    Type : (   CD    )    means : cardinal number\n",
            "-----------------------------------------------------------------------------------------------------\n",
            "Word :( bce     )    Type : (   NN    )    means : noun, singular or mass\n",
            "-----------------------------------------------------------------------------------------------------\n",
            "Word :( archaic )    Type : (   JJ    )    means : adjective (English), other noun-modifier (Chinese)\n",
            "-----------------------------------------------------------------------------------------------------\n",
            "Word :( form    )    Type : (   NN    )    means : noun, singular or mass\n",
            "-----------------------------------------------------------------------------------------------------\n",
            "Word :( sanskrit )    Type : (   NN    )    means : noun, singular or mass\n",
            "-----------------------------------------------------------------------------------------------------\n",
            "Word :( indo-european )    Type : (   JJ    )    means : adjective (English), other noun-modifier (Chinese)\n",
            "-----------------------------------------------------------------------------------------------------\n",
            "Word :( languag )    Type : (   NN    )    means : noun, singular or mass\n",
            "-----------------------------------------------------------------------------------------------------\n",
            "Word :( diffus  )    Type : (   NN    )    means : noun, singular or mass\n",
            "-----------------------------------------------------------------------------------------------------\n",
            "Word :( india   )    Type : (   NN    )    means : noun, singular or mass\n",
            "-----------------------------------------------------------------------------------------------------\n",
            "Word :( northwest )    Type : (   RB    )    means : adverb\n",
            "-----------------------------------------------------------------------------------------------------\n",
            "Word :( unfold  )    Type : (   JJ    )    means : adjective (English), other noun-modifier (Chinese)\n",
            "-----------------------------------------------------------------------------------------------------\n",
            "Word :( languag )    Type : (   NN    )    means : noun, singular or mass\n",
            "-----------------------------------------------------------------------------------------------------\n",
            "Word :( rigveda )    Type : (   NN    )    means : noun, singular or mass\n",
            "-----------------------------------------------------------------------------------------------------\n",
            "Word :( record  )    Type : (   NN    )    means : noun, singular or mass\n",
            "-----------------------------------------------------------------------------------------------------\n",
            "Word :( dawn    )    Type : (   NN    )    means : noun, singular or mass\n",
            "-----------------------------------------------------------------------------------------------------\n",
            "Word :( hinduism )    Type : (   NN    )    means : noun, singular or mass\n",
            "-----------------------------------------------------------------------------------------------------\n",
            "Word :( india   )    Type : (   VBZ   )    means : verb, 3rd person singular present\n",
            "-----------------------------------------------------------------------------------------------------\n",
            "Word :( 27      )    Type : (   CD    )    means : cardinal number\n",
            "-----------------------------------------------------------------------------------------------------\n",
            "Word :( dravidian )    Type : (   JJ    )    means : adjective (English), other noun-modifier (Chinese)\n",
            "-----------------------------------------------------------------------------------------------------\n",
            "Word :( languag )    Type : (   NN    )    means : noun, singular or mass\n",
            "-----------------------------------------------------------------------------------------------------\n",
            "Word :( india   )    Type : (   NN    )    means : noun, singular or mass\n",
            "-----------------------------------------------------------------------------------------------------\n",
            "Word :( supplant )    Type : (   JJ    )    means : adjective (English), other noun-modifier (Chinese)\n",
            "-----------------------------------------------------------------------------------------------------\n",
            "Word :( northern )    Type : (   JJ    )    means : adjective (English), other noun-modifier (Chinese)\n",
            "-----------------------------------------------------------------------------------------------------\n",
            "Word :( region  )    Type : (   NN    )    means : noun, singular or mass\n",
            "-----------------------------------------------------------------------------------------------------\n",
            "Word :( 28      )    Type : (   CD    )    means : cardinal number\n",
            "-----------------------------------------------------------------------------------------------------\n",
            "Word :( 400     )    Type : (   CD    )    means : cardinal number\n",
            "-----------------------------------------------------------------------------------------------------\n",
            "Word :( bce     )    Type : (   NN    )    means : noun, singular or mass\n",
            "-----------------------------------------------------------------------------------------------------\n",
            "Word :( stratif )    Type : (   NN    )    means : noun, singular or mass\n",
            "-----------------------------------------------------------------------------------------------------\n",
            "Word :( exclus  )    Type : (   CC    )    means : conjunction, coordinating\n",
            "-----------------------------------------------------------------------------------------------------\n",
            "Word :( cast    )    Type : (   NN    )    means : noun, singular or mass\n",
            "-----------------------------------------------------------------------------------------------------\n",
            "Word :( emerg   )    Type : (   NN    )    means : noun, singular or mass\n",
            "-----------------------------------------------------------------------------------------------------\n",
            "Word :( within  )    Type : (   IN    )    means : conjunction, subordinating or preposition\n",
            "-----------------------------------------------------------------------------------------------------\n",
            "Word :( hinduism )    Type : (   NN    )    means : noun, singular or mass\n",
            "-----------------------------------------------------------------------------------------------------\n",
            "Word :( 29      )    Type : (   CD    )    means : cardinal number\n",
            "-----------------------------------------------------------------------------------------------------\n",
            "Word :( buddhism )    Type : (   NN    )    means : noun, singular or mass\n",
            "-----------------------------------------------------------------------------------------------------\n",
            "Word :( jainism )    Type : (   NN    )    means : noun, singular or mass\n",
            "-----------------------------------------------------------------------------------------------------\n",
            "Word :( arisen  )    Type : (   IN    )    means : conjunction, subordinating or preposition\n",
            "-----------------------------------------------------------------------------------------------------\n",
            "Word :( proclaim )    Type : (   NN    )    means : noun, singular or mass\n",
            "-----------------------------------------------------------------------------------------------------\n",
            "Word :( social  )    Type : (   JJ    )    means : adjective (English), other noun-modifier (Chinese)\n",
            "-----------------------------------------------------------------------------------------------------\n",
            "Word :( order   )    Type : (   NN    )    means : noun, singular or mass\n",
            "-----------------------------------------------------------------------------------------------------\n",
            "Word :( unlink  )    Type : (   NN    )    means : noun, singular or mass\n",
            "-----------------------------------------------------------------------------------------------------\n",
            "Word :( hered   )    Type : (   VBD   )    means : verb, past tense\n",
            "-----------------------------------------------------------------------------------------------------\n",
            "Word :( 30      )    Type : (   CD    )    means : cardinal number\n",
            "-----------------------------------------------------------------------------------------------------\n",
            "Word :( earli   )    Type : (   JJ    )    means : adjective (English), other noun-modifier (Chinese)\n",
            "-----------------------------------------------------------------------------------------------------\n",
            "Word :( polit   )    Type : (   NN    )    means : noun, singular or mass\n",
            "-----------------------------------------------------------------------------------------------------\n",
            "Word :( consolid )    Type : (   NNS   )    means : noun, plural\n",
            "-----------------------------------------------------------------------------------------------------\n",
            "Word :( gave    )    Type : (   VBD   )    means : verb, past tense\n",
            "-----------------------------------------------------------------------------------------------------\n",
            "Word :( rise    )    Type : (   NN    )    means : noun, singular or mass\n",
            "-----------------------------------------------------------------------------------------------------\n",
            "Word :( loose-knit )    Type : (   NN    )    means : noun, singular or mass\n",
            "-----------------------------------------------------------------------------------------------------\n",
            "Word :( maurya  )    Type : (   NN    )    means : noun, singular or mass\n",
            "-----------------------------------------------------------------------------------------------------\n",
            "Word :( gupta   )    Type : (   NN    )    means : noun, singular or mass\n",
            "-----------------------------------------------------------------------------------------------------\n",
            "Word :( empir   )    Type : (   JJ    )    means : adjective (English), other noun-modifier (Chinese)\n",
            "-----------------------------------------------------------------------------------------------------\n",
            "Word :( base    )    Type : (   NN    )    means : noun, singular or mass\n",
            "-----------------------------------------------------------------------------------------------------\n",
            "Word :( gang    )    Type : (   NN    )    means : noun, singular or mass\n",
            "-----------------------------------------------------------------------------------------------------\n",
            "Word :( basin   )    Type : (   VBD   )    means : verb, past tense\n",
            "-----------------------------------------------------------------------------------------------------\n",
            "Word :( 31      )    Type : (   CD    )    means : cardinal number\n",
            "-----------------------------------------------------------------------------------------------------\n",
            "Word :( collect )    Type : (   NN    )    means : noun, singular or mass\n",
            "-----------------------------------------------------------------------------------------------------\n",
            "Word :( era     )    Type : (   NN    )    means : noun, singular or mass\n",
            "-----------------------------------------------------------------------------------------------------\n",
            "Word :( suffus  )    Type : (   NN    )    means : noun, singular or mass\n",
            "-----------------------------------------------------------------------------------------------------\n",
            "Word :( wide-rang )    Type : (   JJ    )    means : adjective (English), other noun-modifier (Chinese)\n",
            "-----------------------------------------------------------------------------------------------------\n",
            "Word :( creativ )    Type : (   NN    )    means : noun, singular or mass\n",
            "-----------------------------------------------------------------------------------------------------\n",
            "Word :( 32      )    Type : (   CD    )    means : cardinal number\n",
            "-----------------------------------------------------------------------------------------------------\n",
            "Word :( also    )    Type : (   RB    )    means : adverb\n",
            "-----------------------------------------------------------------------------------------------------\n",
            "Word :( mark    )    Type : (   NN    )    means : noun, singular or mass\n",
            "-----------------------------------------------------------------------------------------------------\n",
            "Word :( declin  )    Type : (   NN    )    means : noun, singular or mass\n",
            "-----------------------------------------------------------------------------------------------------\n",
            "Word :( statu   )    Type : (   VBD   )    means : verb, past tense\n",
            "-----------------------------------------------------------------------------------------------------\n",
            "Word :( woman   )    Type : (   NN    )    means : noun, singular or mass\n",
            "-----------------------------------------------------------------------------------------------------\n",
            "Word :( 33      )    Type : (   CD    )    means : cardinal number\n",
            "-----------------------------------------------------------------------------------------------------\n",
            "Word :( incorpor )    Type : (   NN    )    means : noun, singular or mass\n",
            "-----------------------------------------------------------------------------------------------------\n",
            "Word :( untouch )    Type : (   JJ    )    means : adjective (English), other noun-modifier (Chinese)\n",
            "-----------------------------------------------------------------------------------------------------\n",
            "Word :( organis )    Type : (   NN    )    means : noun, singular or mass\n",
            "-----------------------------------------------------------------------------------------------------\n",
            "Word :( system  )    Type : (   NN    )    means : noun, singular or mass\n",
            "-----------------------------------------------------------------------------------------------------\n",
            "Word :( belief  )    Type : (   JJ    )    means : adjective (English), other noun-modifier (Chinese)\n",
            "-----------------------------------------------------------------------------------------------------\n",
            "Word :( g       )    Type : (   NN    )    means : noun, singular or mass\n",
            "-----------------------------------------------------------------------------------------------------\n",
            "Word :( 34      )    Type : (   CD    )    means : cardinal number\n",
            "-----------------------------------------------------------------------------------------------------\n",
            "Word :( south   )    Type : (   JJ    )    means : adjective (English), other noun-modifier (Chinese)\n",
            "-----------------------------------------------------------------------------------------------------\n",
            "Word :( india   )    Type : (   JJ    )    means : adjective (English), other noun-modifier (Chinese)\n",
            "-----------------------------------------------------------------------------------------------------\n",
            "Word :( middl   )    Type : (   NN    )    means : noun, singular or mass\n",
            "-----------------------------------------------------------------------------------------------------\n",
            "Word :( kingdom )    Type : (   NN    )    means : noun, singular or mass\n",
            "-----------------------------------------------------------------------------------------------------\n",
            "Word :( export  )    Type : (   NN    )    means : noun, singular or mass\n",
            "-----------------------------------------------------------------------------------------------------\n",
            "Word :( dravidian-languag )    Type : (   JJ    )    means : adjective (English), other noun-modifier (Chinese)\n",
            "-----------------------------------------------------------------------------------------------------\n",
            "Word :( script  )    Type : (   NN    )    means : noun, singular or mass\n",
            "-----------------------------------------------------------------------------------------------------\n",
            "Word :( religi  )    Type : (   NN    )    means : noun, singular or mass\n",
            "-----------------------------------------------------------------------------------------------------\n",
            "Word :( cultur  )    Type : (   NN    )    means : noun, singular or mass\n",
            "-----------------------------------------------------------------------------------------------------\n",
            "Word :( kingdom )    Type : (   NN    )    means : noun, singular or mass\n",
            "-----------------------------------------------------------------------------------------------------\n",
            "Word :( southeast )    Type : (   NN    )    means : noun, singular or mass\n",
            "-----------------------------------------------------------------------------------------------------\n",
            "Word :( asia    )    Type : (   NN    )    means : noun, singular or mass\n",
            "-----------------------------------------------------------------------------------------------------\n",
            "Word :( earli   )    Type : (   NN    )    means : noun, singular or mass\n",
            "-----------------------------------------------------------------------------------------------------\n",
            "Word :( mediev  )    Type : (   NN    )    means : noun, singular or mass\n",
            "-----------------------------------------------------------------------------------------------------\n",
            "Word :( era     )    Type : (   NN    )    means : noun, singular or mass\n",
            "-----------------------------------------------------------------------------------------------------\n",
            "Word :( christian )    Type : (   JJ    )    means : adjective (English), other noun-modifier (Chinese)\n",
            "-----------------------------------------------------------------------------------------------------\n",
            "Word :( islam   )    Type : (   NN    )    means : noun, singular or mass\n",
            "-----------------------------------------------------------------------------------------------------\n",
            "Word :( judaism )    Type : (   NN    )    means : noun, singular or mass\n",
            "-----------------------------------------------------------------------------------------------------\n",
            "Word :( zoroastrian )    Type : (   JJ    )    means : adjective (English), other noun-modifier (Chinese)\n",
            "-----------------------------------------------------------------------------------------------------\n",
            "Word :( put     )    Type : (   VBD   )    means : verb, past tense\n",
            "-----------------------------------------------------------------------------------------------------\n",
            "Word :( root    )    Type : (   JJ    )    means : adjective (English), other noun-modifier (Chinese)\n",
            "-----------------------------------------------------------------------------------------------------\n",
            "Word :( india   )    Type : (   NN    )    means : noun, singular or mass\n",
            "-----------------------------------------------------------------------------------------------------\n",
            "Word :( 's      )    Type : (   POS   )    means : possessive ending\n",
            "-----------------------------------------------------------------------------------------------------\n",
            "Word :( southern )    Type : (   JJ    )    means : adjective (English), other noun-modifier (Chinese)\n",
            "-----------------------------------------------------------------------------------------------------\n",
            "Word :( western )    Type : (   JJ    )    means : adjective (English), other noun-modifier (Chinese)\n",
            "-----------------------------------------------------------------------------------------------------\n",
            "Word :( coast   )    Type : (   NN    )    means : noun, singular or mass\n",
            "-----------------------------------------------------------------------------------------------------\n",
            "Word :( muslim  )    Type : (   NN    )    means : noun, singular or mass\n",
            "-----------------------------------------------------------------------------------------------------\n",
            "Word :( armi    )    Type : (   JJ    )    means : adjective (English), other noun-modifier (Chinese)\n",
            "-----------------------------------------------------------------------------------------------------\n",
            "Word :( central )    Type : (   JJ    )    means : adjective (English), other noun-modifier (Chinese)\n",
            "-----------------------------------------------------------------------------------------------------\n",
            "Word :( asia    )    Type : (   NN    )    means : noun, singular or mass\n",
            "-----------------------------------------------------------------------------------------------------\n",
            "Word :( intermitt )    Type : (   NN    )    means : noun, singular or mass\n",
            "-----------------------------------------------------------------------------------------------------\n",
            "Word :( overran )    Type : (   IN    )    means : conjunction, subordinating or preposition\n",
            "-----------------------------------------------------------------------------------------------------\n",
            "Word :( india   )    Type : (   NN    )    means : noun, singular or mass\n",
            "-----------------------------------------------------------------------------------------------------\n",
            "Word :( 's      )    Type : (   POS   )    means : possessive ending\n",
            "-----------------------------------------------------------------------------------------------------\n",
            "Word :( northern )    Type : (   JJ    )    means : adjective (English), other noun-modifier (Chinese)\n",
            "-----------------------------------------------------------------------------------------------------\n",
            "Word :( plain   )    Type : (   NN    )    means : noun, singular or mass\n",
            "-----------------------------------------------------------------------------------------------------\n",
            "Word :( 37      )    Type : (   CD    )    means : cardinal number\n",
            "-----------------------------------------------------------------------------------------------------\n",
            "Word :( eventu  )    Type : (   JJ    )    means : adjective (English), other noun-modifier (Chinese)\n",
            "-----------------------------------------------------------------------------------------------------\n",
            "Word :( establish )    Type : (   VB    )    means : verb, base form\n",
            "-----------------------------------------------------------------------------------------------------\n",
            "Word :( delhi   )    Type : (   JJ    )    means : adjective (English), other noun-modifier (Chinese)\n",
            "-----------------------------------------------------------------------------------------------------\n",
            "Word :( sultan  )    Type : (   JJ    )    means : adjective (English), other noun-modifier (Chinese)\n",
            "-----------------------------------------------------------------------------------------------------\n",
            "Word :( draw    )    Type : (   NN    )    means : noun, singular or mass\n",
            "-----------------------------------------------------------------------------------------------------\n",
            "Word :( northern )    Type : (   JJ    )    means : adjective (English), other noun-modifier (Chinese)\n",
            "-----------------------------------------------------------------------------------------------------\n",
            "Word :( india   )    Type : (   NNP   )    means : noun, proper singular\n",
            "-----------------------------------------------------------------------------------------------------\n",
            "Word :( cosmopolitan )    Type : (   NN    )    means : noun, singular or mass\n",
            "-----------------------------------------------------------------------------------------------------\n",
            "Word :( network )    Type : (   NN    )    means : noun, singular or mass\n",
            "-----------------------------------------------------------------------------------------------------\n",
            "Word :( mediev  )    Type : (   VBD   )    means : verb, past tense\n",
            "-----------------------------------------------------------------------------------------------------\n",
            "Word :( islam   )    Type : (   JJ    )    means : adjective (English), other noun-modifier (Chinese)\n",
            "-----------------------------------------------------------------------------------------------------\n",
            "Word :( 38      )    Type : (   CD    )    means : cardinal number\n",
            "-----------------------------------------------------------------------------------------------------\n",
            "Word :( 15th    )    Type : (   CD    )    means : cardinal number\n",
            "-----------------------------------------------------------------------------------------------------\n",
            "Word :( centuri )    Type : (   NN    )    means : noun, singular or mass\n",
            "-----------------------------------------------------------------------------------------------------\n",
            "Word :( vijayanagara )    Type : (   NN    )    means : noun, singular or mass\n",
            "-----------------------------------------------------------------------------------------------------\n",
            "Word :( empir   )    Type : (   JJ    )    means : adjective (English), other noun-modifier (Chinese)\n",
            "-----------------------------------------------------------------------------------------------------\n",
            "Word :( creat   )    Type : (   NN    )    means : noun, singular or mass\n",
            "-----------------------------------------------------------------------------------------------------\n",
            "Word :( long-last )    Type : (   JJ    )    means : adjective (English), other noun-modifier (Chinese)\n",
            "-----------------------------------------------------------------------------------------------------\n",
            "Word :( composit )    Type : (   NN    )    means : noun, singular or mass\n",
            "-----------------------------------------------------------------------------------------------------\n",
            "Word :( hindu   )    Type : (   NN    )    means : noun, singular or mass\n",
            "-----------------------------------------------------------------------------------------------------\n",
            "Word :( cultur  )    Type : (   NN    )    means : noun, singular or mass\n",
            "-----------------------------------------------------------------------------------------------------\n",
            "Word :( south   )    Type : (   JJ    )    means : adjective (English), other noun-modifier (Chinese)\n",
            "-----------------------------------------------------------------------------------------------------\n",
            "Word :( india   )    Type : (   JJ    )    means : adjective (English), other noun-modifier (Chinese)\n",
            "-----------------------------------------------------------------------------------------------------\n",
            "Word :( 39      )    Type : (   CD    )    means : cardinal number\n",
            "-----------------------------------------------------------------------------------------------------\n",
            "Word :( punjab  )    Type : (   JJ    )    means : adjective (English), other noun-modifier (Chinese)\n",
            "-----------------------------------------------------------------------------------------------------\n",
            "Word :( sikhism )    Type : (   NN    )    means : noun, singular or mass\n",
            "-----------------------------------------------------------------------------------------------------\n",
            "Word :( emerg   )    Type : (   NN    )    means : noun, singular or mass\n",
            "-----------------------------------------------------------------------------------------------------\n",
            "Word :( reject  )    Type : (   NN    )    means : noun, singular or mass\n",
            "-----------------------------------------------------------------------------------------------------\n",
            "Word :( institutionalis )    Type : (   VBZ   )    means : verb, 3rd person singular present\n",
            "-----------------------------------------------------------------------------------------------------\n",
            "Word :( religion )    Type : (   NN    )    means : noun, singular or mass\n",
            "-----------------------------------------------------------------------------------------------------\n",
            "Word :( 40      )    Type : (   CD    )    means : cardinal number\n",
            "-----------------------------------------------------------------------------------------------------\n",
            "Word :( mughal  )    Type : (   NN    )    means : noun, singular or mass\n",
            "-----------------------------------------------------------------------------------------------------\n",
            "Word :( empir   )    Type : (   NN    )    means : noun, singular or mass\n",
            "-----------------------------------------------------------------------------------------------------\n",
            "Word :( 1526    )    Type : (   CD    )    means : cardinal number\n",
            "-----------------------------------------------------------------------------------------------------\n",
            "Word :( usher   )    Type : (   JJ    )    means : adjective (English), other noun-modifier (Chinese)\n",
            "-----------------------------------------------------------------------------------------------------\n",
            "Word :( two     )    Type : (   CD    )    means : cardinal number\n",
            "-----------------------------------------------------------------------------------------------------\n",
            "Word :( centuri )    Type : (   NN    )    means : noun, singular or mass\n",
            "-----------------------------------------------------------------------------------------------------\n",
            "Word :( rel     )    Type : (   NN    )    means : noun, singular or mass\n",
            "-----------------------------------------------------------------------------------------------------\n",
            "Word :( peac    )    Type : (   NN    )    means : noun, singular or mass\n",
            "-----------------------------------------------------------------------------------------------------\n",
            "Word :( 41      )    Type : (   CD    )    means : cardinal number\n",
            "-----------------------------------------------------------------------------------------------------\n",
            "Word :( leav    )    Type : (   NN    )    means : noun, singular or mass\n",
            "-----------------------------------------------------------------------------------------------------\n",
            "Word :( legaci  )    Type : (   NN    )    means : noun, singular or mass\n",
            "-----------------------------------------------------------------------------------------------------\n",
            "Word :( lumin   )    Type : (   NN    )    means : noun, singular or mass\n",
            "-----------------------------------------------------------------------------------------------------\n",
            "Word :( architectur )    Type : (   NN    )    means : noun, singular or mass\n",
            "-----------------------------------------------------------------------------------------------------\n",
            "Word :( h       )    Type : (   VBD   )    means : verb, past tense\n",
            "-----------------------------------------------------------------------------------------------------\n",
            "Word :( 42      )    Type : (   CD    )    means : cardinal number\n",
            "-----------------------------------------------------------------------------------------------------\n",
            "Word :( gradual )    Type : (   JJ    )    means : adjective (English), other noun-modifier (Chinese)\n",
            "-----------------------------------------------------------------------------------------------------\n",
            "Word :( expand  )    Type : (   NN    )    means : noun, singular or mass\n",
            "-----------------------------------------------------------------------------------------------------\n",
            "Word :( rule    )    Type : (   NN    )    means : noun, singular or mass\n",
            "-----------------------------------------------------------------------------------------------------\n",
            "Word :( british )    Type : (   JJ    )    means : adjective (English), other noun-modifier (Chinese)\n",
            "-----------------------------------------------------------------------------------------------------\n",
            "Word :( east    )    Type : (   IN    )    means : conjunction, subordinating or preposition\n",
            "-----------------------------------------------------------------------------------------------------\n",
            "Word :( india   )    Type : (   JJ    )    means : adjective (English), other noun-modifier (Chinese)\n",
            "-----------------------------------------------------------------------------------------------------\n",
            "Word :( compani )    Type : (   NN    )    means : noun, singular or mass\n",
            "-----------------------------------------------------------------------------------------------------\n",
            "Word :( follow  )    Type : (   JJ    )    means : adjective (English), other noun-modifier (Chinese)\n",
            "-----------------------------------------------------------------------------------------------------\n",
            "Word :( turn    )    Type : (   NN    )    means : noun, singular or mass\n",
            "-----------------------------------------------------------------------------------------------------\n",
            "Word :( india   )    Type : (   NN    )    means : noun, singular or mass\n",
            "-----------------------------------------------------------------------------------------------------\n",
            "Word :( coloni  )    Type : (   NN    )    means : noun, singular or mass\n",
            "-----------------------------------------------------------------------------------------------------\n",
            "Word :( economi )    Type : (   NN    )    means : noun, singular or mass\n",
            "-----------------------------------------------------------------------------------------------------\n",
            "Word :( also    )    Type : (   RB    )    means : adverb\n",
            "-----------------------------------------------------------------------------------------------------\n",
            "Word :( consolid )    Type : (   VBD   )    means : verb, past tense\n",
            "-----------------------------------------------------------------------------------------------------\n",
            "Word :( sovereignti )    Type : (   JJ    )    means : adjective (English), other noun-modifier (Chinese)\n",
            "-----------------------------------------------------------------------------------------------------\n",
            "Word :( 43      )    Type : (   CD    )    means : cardinal number\n",
            "-----------------------------------------------------------------------------------------------------\n",
            "Word :( british )    Type : (   JJ    )    means : adjective (English), other noun-modifier (Chinese)\n",
            "-----------------------------------------------------------------------------------------------------\n",
            "Word :( crown   )    Type : (   NN    )    means : noun, singular or mass\n",
            "-----------------------------------------------------------------------------------------------------\n",
            "Word :( rule    )    Type : (   NN    )    means : noun, singular or mass\n",
            "-----------------------------------------------------------------------------------------------------\n",
            "Word :( began   )    Type : (   VBD   )    means : verb, past tense\n",
            "-----------------------------------------------------------------------------------------------------\n",
            "Word :( 1858    )    Type : (   CD    )    means : cardinal number\n",
            "-----------------------------------------------------------------------------------------------------\n",
            "Word :( right   )    Type : (   JJ    )    means : adjective (English), other noun-modifier (Chinese)\n",
            "-----------------------------------------------------------------------------------------------------\n",
            "Word :( promis  )    Type : (   NN    )    means : noun, singular or mass\n",
            "-----------------------------------------------------------------------------------------------------\n",
            "Word :( indian  )    Type : (   JJ    )    means : adjective (English), other noun-modifier (Chinese)\n",
            "-----------------------------------------------------------------------------------------------------\n",
            "Word :( grant   )    Type : (   NN    )    means : noun, singular or mass\n",
            "-----------------------------------------------------------------------------------------------------\n",
            "Word :( slowli  )    Type : (   VBD   )    means : verb, past tense\n",
            "-----------------------------------------------------------------------------------------------------\n",
            "Word :( 44      )    Type : (   CD    )    means : cardinal number\n",
            "-----------------------------------------------------------------------------------------------------\n",
            "Word :( technolog )    Type : (   NN    )    means : noun, singular or mass\n",
            "-----------------------------------------------------------------------------------------------------\n",
            "Word :( chang   )    Type : (   NN    )    means : noun, singular or mass\n",
            "-----------------------------------------------------------------------------------------------------\n",
            "Word :( introduc )    Type : (   NN    )    means : noun, singular or mass\n",
            "-----------------------------------------------------------------------------------------------------\n",
            "Word :( idea    )    Type : (   NN    )    means : noun, singular or mass\n",
            "-----------------------------------------------------------------------------------------------------\n",
            "Word :( educ    )    Type : (   NN    )    means : noun, singular or mass\n",
            "-----------------------------------------------------------------------------------------------------\n",
            "Word :( modern  )    Type : (   JJ    )    means : adjective (English), other noun-modifier (Chinese)\n",
            "-----------------------------------------------------------------------------------------------------\n",
            "Word :( public  )    Type : (   JJ    )    means : adjective (English), other noun-modifier (Chinese)\n",
            "-----------------------------------------------------------------------------------------------------\n",
            "Word :( life    )    Type : (   NN    )    means : noun, singular or mass\n",
            "-----------------------------------------------------------------------------------------------------\n",
            "Word :( took    )    Type : (   VBD   )    means : verb, past tense\n",
            "-----------------------------------------------------------------------------------------------------\n",
            "Word :( root    )    Type : (   NN    )    means : noun, singular or mass\n",
            "-----------------------------------------------------------------------------------------------------\n",
            "Word :( 45      )    Type : (   CD    )    means : cardinal number\n",
            "-----------------------------------------------------------------------------------------------------\n",
            "Word :( pioneer )    Type : (   NN    )    means : noun, singular or mass\n",
            "-----------------------------------------------------------------------------------------------------\n",
            "Word :( influenti )    Type : (   NNS   )    means : noun, plural\n",
            "-----------------------------------------------------------------------------------------------------\n",
            "Word :( nationalist )    Type : (   JJ    )    means : adjective (English), other noun-modifier (Chinese)\n",
            "-----------------------------------------------------------------------------------------------------\n",
            "Word :( movement )    Type : (   NN    )    means : noun, singular or mass\n",
            "-----------------------------------------------------------------------------------------------------\n",
            "Word :( emerg   )    Type : (   VBD   )    means : verb, past tense\n",
            "-----------------------------------------------------------------------------------------------------\n",
            "Word :( 46      )    Type : (   CD    )    means : cardinal number\n",
            "-----------------------------------------------------------------------------------------------------\n",
            "Word :( note    )    Type : (   NN    )    means : noun, singular or mass\n",
            "-----------------------------------------------------------------------------------------------------\n",
            "Word :( nonviol )    Type : (   JJ    )    means : adjective (English), other noun-modifier (Chinese)\n",
            "-----------------------------------------------------------------------------------------------------\n",
            "Word :( resist  )    Type : (   NN    )    means : noun, singular or mass\n",
            "-----------------------------------------------------------------------------------------------------\n",
            "Word :( led     )    Type : (   VBD   )    means : verb, past tense\n",
            "-----------------------------------------------------------------------------------------------------\n",
            "Word :( india   )    Type : (   RB    )    means : adverb\n",
            "-----------------------------------------------------------------------------------------------------\n",
            "Word :( independ )    Type : (   JJ    )    means : adjective (English), other noun-modifier (Chinese)\n",
            "-----------------------------------------------------------------------------------------------------\n",
            "Word :( 1947    )    Type : (   CD    )    means : cardinal number\n",
            "-----------------------------------------------------------------------------------------------------\n",
            "\n",
            "########################################################################################################\n",
            "\n"
          ]
        }
      ]
    },
    {
      "cell_type": "code",
      "source": [
        "# Entity visualization\n",
        "# Extract the first 5 sentences from the sentences list\n",
        "SUMMARY = nlp(' '.join(words[:10]))\n",
        "#Render the named entities visualization\n",
        "displacy.render(SUMMARY, style='ent', jupyter=True, options={'distance': 90})"
      ],
      "metadata": {
        "id": "WotgIZyC27Ua",
        "colab": {
          "base_uri": "https://localhost:8080/",
          "height": 52
        },
        "outputId": "22791c2a-7ed6-4223-a681-d53a5d521440"
      },
      "execution_count": null,
      "outputs": [
        {
          "output_type": "display_data",
          "data": {
            "text/plain": [
              "<IPython.core.display.HTML object>"
            ],
            "text/html": [
              "<span class=\"tex2jax_ignore\"><div class=\"entities\" style=\"line-height: 2.5; direction: ltr\">\n",
              "<mark class=\"entity\" style=\"background: #feca74; padding: 0.45em 0.6em; margin: 0 0.25em; line-height: 1; border-radius: 0.35em;\">\n",
              "    india\n",
              "    <span style=\"font-size: 0.8em; font-weight: bold; line-height: 1; border-radius: 0.35em; vertical-align: middle; margin-left: 0.5rem\">GPE</span>\n",
              "</mark>\n",
              " offici republ \n",
              "<mark class=\"entity\" style=\"background: #feca74; padding: 0.45em 0.6em; margin: 0 0.25em; line-height: 1; border-radius: 0.35em;\">\n",
              "    india hindi bhārat\n",
              "    <span style=\"font-size: 0.8em; font-weight: bold; line-height: 1; border-radius: 0.35em; vertical-align: middle; margin-left: 0.5rem\">GPE</span>\n",
              "</mark>\n",
              " gaṇarājya \n",
              "<mark class=\"entity\" style=\"background: #e4e7d2; padding: 0.45em 0.6em; margin: 0 0.25em; line-height: 1; border-radius: 0.35em;\">\n",
              "    23\n",
              "    <span style=\"font-size: 0.8em; font-weight: bold; line-height: 1; border-radius: 0.35em; vertical-align: middle; margin-left: 0.5rem\">CARDINAL</span>\n",
              "</mark>\n",
              " countri south</div></span>"
            ]
          },
          "metadata": {}
        }
      ]
    },
    {
      "cell_type": "code",
      "source": [
        "# Dependency visualization\n",
        "# Extract the first 5 sentences from the sentences list\n",
        "SUMMARY = nlp(' '.join(words[:10]))\n",
        "#Render the named entities visualization\n",
        "displacy.render(SUMMARY, style='dep', jupyter=True, options={'distance': 90})"
      ],
      "metadata": {
        "colab": {
          "base_uri": "https://localhost:8080/",
          "height": 293
        },
        "id": "IYG7o4myt9Nl",
        "outputId": "1e7e1016-effa-43b4-8ad8-705ff02ee750"
      },
      "execution_count": null,
      "outputs": [
        {
          "output_type": "display_data",
          "data": {
            "text/plain": [
              "<IPython.core.display.HTML object>"
            ],
            "text/html": [
              "<span class=\"tex2jax_ignore\"><svg xmlns=\"http://www.w3.org/2000/svg\" xmlns:xlink=\"http://www.w3.org/1999/xlink\" xml:lang=\"en\" id=\"595809d1d3554b1dbdc26b70ba481b59-0\" class=\"displacy\" width=\"950\" height=\"272.0\" direction=\"ltr\" style=\"max-width: none; height: 272.0px; color: #000000; background: #ffffff; font-family: Arial; direction: ltr\">\n",
              "<text class=\"displacy-token\" fill=\"currentColor\" text-anchor=\"middle\" y=\"182.0\">\n",
              "    <tspan class=\"displacy-word\" fill=\"currentColor\" x=\"50\">india</tspan>\n",
              "    <tspan class=\"displacy-tag\" dy=\"2em\" fill=\"currentColor\" x=\"50\">PROPN</tspan>\n",
              "</text>\n",
              "\n",
              "<text class=\"displacy-token\" fill=\"currentColor\" text-anchor=\"middle\" y=\"182.0\">\n",
              "    <tspan class=\"displacy-word\" fill=\"currentColor\" x=\"140\">offici</tspan>\n",
              "    <tspan class=\"displacy-tag\" dy=\"2em\" fill=\"currentColor\" x=\"140\">PROPN</tspan>\n",
              "</text>\n",
              "\n",
              "<text class=\"displacy-token\" fill=\"currentColor\" text-anchor=\"middle\" y=\"182.0\">\n",
              "    <tspan class=\"displacy-word\" fill=\"currentColor\" x=\"230\">republ</tspan>\n",
              "    <tspan class=\"displacy-tag\" dy=\"2em\" fill=\"currentColor\" x=\"230\">PROPN</tspan>\n",
              "</text>\n",
              "\n",
              "<text class=\"displacy-token\" fill=\"currentColor\" text-anchor=\"middle\" y=\"182.0\">\n",
              "    <tspan class=\"displacy-word\" fill=\"currentColor\" x=\"320\">india</tspan>\n",
              "    <tspan class=\"displacy-tag\" dy=\"2em\" fill=\"currentColor\" x=\"320\">PROPN</tspan>\n",
              "</text>\n",
              "\n",
              "<text class=\"displacy-token\" fill=\"currentColor\" text-anchor=\"middle\" y=\"182.0\">\n",
              "    <tspan class=\"displacy-word\" fill=\"currentColor\" x=\"410\">hindi</tspan>\n",
              "    <tspan class=\"displacy-tag\" dy=\"2em\" fill=\"currentColor\" x=\"410\">PROPN</tspan>\n",
              "</text>\n",
              "\n",
              "<text class=\"displacy-token\" fill=\"currentColor\" text-anchor=\"middle\" y=\"182.0\">\n",
              "    <tspan class=\"displacy-word\" fill=\"currentColor\" x=\"500\">bhārat</tspan>\n",
              "    <tspan class=\"displacy-tag\" dy=\"2em\" fill=\"currentColor\" x=\"500\">PROPN</tspan>\n",
              "</text>\n",
              "\n",
              "<text class=\"displacy-token\" fill=\"currentColor\" text-anchor=\"middle\" y=\"182.0\">\n",
              "    <tspan class=\"displacy-word\" fill=\"currentColor\" x=\"590\">gaṇarājya</tspan>\n",
              "    <tspan class=\"displacy-tag\" dy=\"2em\" fill=\"currentColor\" x=\"590\">PROPN</tspan>\n",
              "</text>\n",
              "\n",
              "<text class=\"displacy-token\" fill=\"currentColor\" text-anchor=\"middle\" y=\"182.0\">\n",
              "    <tspan class=\"displacy-word\" fill=\"currentColor\" x=\"680\">23</tspan>\n",
              "    <tspan class=\"displacy-tag\" dy=\"2em\" fill=\"currentColor\" x=\"680\">NUM</tspan>\n",
              "</text>\n",
              "\n",
              "<text class=\"displacy-token\" fill=\"currentColor\" text-anchor=\"middle\" y=\"182.0\">\n",
              "    <tspan class=\"displacy-word\" fill=\"currentColor\" x=\"770\">countri</tspan>\n",
              "    <tspan class=\"displacy-tag\" dy=\"2em\" fill=\"currentColor\" x=\"770\">ADJ</tspan>\n",
              "</text>\n",
              "\n",
              "<text class=\"displacy-token\" fill=\"currentColor\" text-anchor=\"middle\" y=\"182.0\">\n",
              "    <tspan class=\"displacy-word\" fill=\"currentColor\" x=\"860\">south</tspan>\n",
              "    <tspan class=\"displacy-tag\" dy=\"2em\" fill=\"currentColor\" x=\"860\">NOUN</tspan>\n",
              "</text>\n",
              "\n",
              "<g class=\"displacy-arrow\">\n",
              "    <path class=\"displacy-arc\" id=\"arrow-595809d1d3554b1dbdc26b70ba481b59-0-0\" stroke-width=\"2px\" d=\"M70,137.0 C70,47.0 225.0,47.0 225.0,137.0\" fill=\"none\" stroke=\"currentColor\"/>\n",
              "    <text dy=\"1.25em\" style=\"font-size: 0.8em; letter-spacing: 1px\">\n",
              "        <textPath xlink:href=\"#arrow-595809d1d3554b1dbdc26b70ba481b59-0-0\" class=\"displacy-label\" startOffset=\"50%\" side=\"left\" fill=\"currentColor\" text-anchor=\"middle\">compound</textPath>\n",
              "    </text>\n",
              "    <path class=\"displacy-arrowhead\" d=\"M70,139.0 L62,127.0 78,127.0\" fill=\"currentColor\"/>\n",
              "</g>\n",
              "\n",
              "<g class=\"displacy-arrow\">\n",
              "    <path class=\"displacy-arc\" id=\"arrow-595809d1d3554b1dbdc26b70ba481b59-0-1\" stroke-width=\"2px\" d=\"M160,137.0 C160,92.0 220.0,92.0 220.0,137.0\" fill=\"none\" stroke=\"currentColor\"/>\n",
              "    <text dy=\"1.25em\" style=\"font-size: 0.8em; letter-spacing: 1px\">\n",
              "        <textPath xlink:href=\"#arrow-595809d1d3554b1dbdc26b70ba481b59-0-1\" class=\"displacy-label\" startOffset=\"50%\" side=\"left\" fill=\"currentColor\" text-anchor=\"middle\">compound</textPath>\n",
              "    </text>\n",
              "    <path class=\"displacy-arrowhead\" d=\"M160,139.0 L152,127.0 168,127.0\" fill=\"currentColor\"/>\n",
              "</g>\n",
              "\n",
              "<g class=\"displacy-arrow\">\n",
              "    <path class=\"displacy-arc\" id=\"arrow-595809d1d3554b1dbdc26b70ba481b59-0-2\" stroke-width=\"2px\" d=\"M250,137.0 C250,92.0 310.0,92.0 310.0,137.0\" fill=\"none\" stroke=\"currentColor\"/>\n",
              "    <text dy=\"1.25em\" style=\"font-size: 0.8em; letter-spacing: 1px\">\n",
              "        <textPath xlink:href=\"#arrow-595809d1d3554b1dbdc26b70ba481b59-0-2\" class=\"displacy-label\" startOffset=\"50%\" side=\"left\" fill=\"currentColor\" text-anchor=\"middle\">compound</textPath>\n",
              "    </text>\n",
              "    <path class=\"displacy-arrowhead\" d=\"M250,139.0 L242,127.0 258,127.0\" fill=\"currentColor\"/>\n",
              "</g>\n",
              "\n",
              "<g class=\"displacy-arrow\">\n",
              "    <path class=\"displacy-arc\" id=\"arrow-595809d1d3554b1dbdc26b70ba481b59-0-3\" stroke-width=\"2px\" d=\"M340,137.0 C340,2.0 590.0,2.0 590.0,137.0\" fill=\"none\" stroke=\"currentColor\"/>\n",
              "    <text dy=\"1.25em\" style=\"font-size: 0.8em; letter-spacing: 1px\">\n",
              "        <textPath xlink:href=\"#arrow-595809d1d3554b1dbdc26b70ba481b59-0-3\" class=\"displacy-label\" startOffset=\"50%\" side=\"left\" fill=\"currentColor\" text-anchor=\"middle\">compound</textPath>\n",
              "    </text>\n",
              "    <path class=\"displacy-arrowhead\" d=\"M340,139.0 L332,127.0 348,127.0\" fill=\"currentColor\"/>\n",
              "</g>\n",
              "\n",
              "<g class=\"displacy-arrow\">\n",
              "    <path class=\"displacy-arc\" id=\"arrow-595809d1d3554b1dbdc26b70ba481b59-0-4\" stroke-width=\"2px\" d=\"M430,137.0 C430,47.0 585.0,47.0 585.0,137.0\" fill=\"none\" stroke=\"currentColor\"/>\n",
              "    <text dy=\"1.25em\" style=\"font-size: 0.8em; letter-spacing: 1px\">\n",
              "        <textPath xlink:href=\"#arrow-595809d1d3554b1dbdc26b70ba481b59-0-4\" class=\"displacy-label\" startOffset=\"50%\" side=\"left\" fill=\"currentColor\" text-anchor=\"middle\">compound</textPath>\n",
              "    </text>\n",
              "    <path class=\"displacy-arrowhead\" d=\"M430,139.0 L422,127.0 438,127.0\" fill=\"currentColor\"/>\n",
              "</g>\n",
              "\n",
              "<g class=\"displacy-arrow\">\n",
              "    <path class=\"displacy-arc\" id=\"arrow-595809d1d3554b1dbdc26b70ba481b59-0-5\" stroke-width=\"2px\" d=\"M520,137.0 C520,92.0 580.0,92.0 580.0,137.0\" fill=\"none\" stroke=\"currentColor\"/>\n",
              "    <text dy=\"1.25em\" style=\"font-size: 0.8em; letter-spacing: 1px\">\n",
              "        <textPath xlink:href=\"#arrow-595809d1d3554b1dbdc26b70ba481b59-0-5\" class=\"displacy-label\" startOffset=\"50%\" side=\"left\" fill=\"currentColor\" text-anchor=\"middle\">compound</textPath>\n",
              "    </text>\n",
              "    <path class=\"displacy-arrowhead\" d=\"M520,139.0 L512,127.0 528,127.0\" fill=\"currentColor\"/>\n",
              "</g>\n",
              "\n",
              "<g class=\"displacy-arrow\">\n",
              "    <path class=\"displacy-arc\" id=\"arrow-595809d1d3554b1dbdc26b70ba481b59-0-6\" stroke-width=\"2px\" d=\"M610,137.0 C610,92.0 670.0,92.0 670.0,137.0\" fill=\"none\" stroke=\"currentColor\"/>\n",
              "    <text dy=\"1.25em\" style=\"font-size: 0.8em; letter-spacing: 1px\">\n",
              "        <textPath xlink:href=\"#arrow-595809d1d3554b1dbdc26b70ba481b59-0-6\" class=\"displacy-label\" startOffset=\"50%\" side=\"left\" fill=\"currentColor\" text-anchor=\"middle\">nummod</textPath>\n",
              "    </text>\n",
              "    <path class=\"displacy-arrowhead\" d=\"M670.0,139.0 L678.0,127.0 662.0,127.0\" fill=\"currentColor\"/>\n",
              "</g>\n",
              "\n",
              "<g class=\"displacy-arrow\">\n",
              "    <path class=\"displacy-arc\" id=\"arrow-595809d1d3554b1dbdc26b70ba481b59-0-7\" stroke-width=\"2px\" d=\"M790,137.0 C790,92.0 850.0,92.0 850.0,137.0\" fill=\"none\" stroke=\"currentColor\"/>\n",
              "    <text dy=\"1.25em\" style=\"font-size: 0.8em; letter-spacing: 1px\">\n",
              "        <textPath xlink:href=\"#arrow-595809d1d3554b1dbdc26b70ba481b59-0-7\" class=\"displacy-label\" startOffset=\"50%\" side=\"left\" fill=\"currentColor\" text-anchor=\"middle\">amod</textPath>\n",
              "    </text>\n",
              "    <path class=\"displacy-arrowhead\" d=\"M790,139.0 L782,127.0 798,127.0\" fill=\"currentColor\"/>\n",
              "</g>\n",
              "\n",
              "<g class=\"displacy-arrow\">\n",
              "    <path class=\"displacy-arc\" id=\"arrow-595809d1d3554b1dbdc26b70ba481b59-0-8\" stroke-width=\"2px\" d=\"M610,137.0 C610,47.0 855.0,47.0 855.0,137.0\" fill=\"none\" stroke=\"currentColor\"/>\n",
              "    <text dy=\"1.25em\" style=\"font-size: 0.8em; letter-spacing: 1px\">\n",
              "        <textPath xlink:href=\"#arrow-595809d1d3554b1dbdc26b70ba481b59-0-8\" class=\"displacy-label\" startOffset=\"50%\" side=\"left\" fill=\"currentColor\" text-anchor=\"middle\">npadvmod</textPath>\n",
              "    </text>\n",
              "    <path class=\"displacy-arrowhead\" d=\"M855.0,139.0 L863.0,127.0 847.0,127.0\" fill=\"currentColor\"/>\n",
              "</g>\n",
              "</svg></span>"
            ]
          },
          "metadata": {}
        }
      ]
    },
    {
      "cell_type": "code",
      "source": [
        "print(f'(Word)       (POS)     (DEP)        (Explain)')\n",
        "print('----------------------------------------------------------------')\n",
        "for token in SUMMARY :\n",
        "    print(f'{token.text:{10}}    {token.pos_:{7}}   {token.dep_:{10}}   {spacy.explain(token.dep_)}')\n",
        "    print('----------------------------------------------------------------')"
      ],
      "metadata": {
        "colab": {
          "base_uri": "https://localhost:8080/"
        },
        "id": "sMBWvVrsuKdx",
        "outputId": "be9d86bb-fc1a-4486-fa04-c11a4d7700b8"
      },
      "execution_count": null,
      "outputs": [
        {
          "output_type": "stream",
          "name": "stdout",
          "text": [
            "(Word)       (POS)     (DEP)        (Explain)\n",
            "----------------------------------------------------------------\n",
            "india         PROPN     compound     compound\n",
            "----------------------------------------------------------------\n",
            "offici        PROPN     compound     compound\n",
            "----------------------------------------------------------------\n",
            "republ        PROPN     compound     compound\n",
            "----------------------------------------------------------------\n",
            "india         PROPN     compound     compound\n",
            "----------------------------------------------------------------\n",
            "hindi         PROPN     compound     compound\n",
            "----------------------------------------------------------------\n",
            "bhārat        PROPN     compound     compound\n",
            "----------------------------------------------------------------\n",
            "gaṇarājya     PROPN     ROOT         root\n",
            "----------------------------------------------------------------\n",
            "23            NUM       nummod       numeric modifier\n",
            "----------------------------------------------------------------\n",
            "countri       ADJ       amod         adjectival modifier\n",
            "----------------------------------------------------------------\n",
            "south         NOUN      npadvmod     noun phrase as adverbial modifier\n",
            "----------------------------------------------------------------\n"
          ]
        }
      ]
    },
    {
      "cell_type": "code",
      "source": [
        "# No. of words and vocabulary size\n",
        "num_words = len(vis)\n",
        "\n",
        "num_unique_words = len(set(vis2))\n",
        "labels = ['Unique Words', 'Repeated Words']\n",
        "sizes = [num_unique_words, num_words - num_unique_words]\n",
        "colors = ['#59D0FB', '#554DDE']\n",
        "\n",
        "plt.figure(figsize=(8, 8))\n",
        "plt.pie(sizes, labels=labels, colors=colors, autopct='%1.1f%%', startangle=140)\n",
        "plt.axis('equal')  # Equal aspect ratio ensures that pie is drawn as a circle.\n",
        "plt.title('Distribution of Words')\n",
        "plt.show()\n",
        "print(f'The number of words in text is: {num_words} and Vocabulraty size is: {num_unique_words}')"
      ],
      "metadata": {
        "colab": {
          "base_uri": "https://localhost:8080/",
          "height": 692
        },
        "id": "fAJJNbduuLPR",
        "outputId": "8cce9343-0dff-4d49-88cb-75d115c742e0"
      },
      "execution_count": null,
      "outputs": [
        {
          "output_type": "display_data",
          "data": {
            "text/plain": [
              "<Figure size 800x800 with 1 Axes>"
            ],
            "image/png": "[encoded data removed]"
          },
          "metadata": {}
        },
        {
          "output_type": "stream",
          "name": "stdout",
          "text": [
            "The number of words in text is: 316 and Vocabulraty size is: 262\n"
          ]
        }
      ]
    },
    {
      "cell_type": "code",
      "source": [
        "# Top 10 frequent words\n",
        "freqTable={}\n",
        "for word in words:\n",
        "    word = word.lower()\n",
        "    if word not in stopWords:\n",
        "        if word in freqTable:\n",
        "            freqTable[word] += 1\n",
        "        else:\n",
        "            freqTable[word] = 1"
      ],
      "metadata": {
        "id": "iU9fimGXycCP"
      },
      "execution_count": null,
      "outputs": []
    },
    {
      "cell_type": "code",
      "source": [
        "print(sorted(freqTable.items(), key = lambda x: x[1],reverse = True)[:10])\n",
        "len(freqTable)"
      ],
      "metadata": {
        "colab": {
          "base_uri": "https://localhost:8080/"
        },
        "id": "kyiutjPIy4l0",
        "outputId": "b1979064-c8a7-4708-a870-d53ae318ca82"
      },
      "execution_count": null,
      "outputs": [
        {
          "output_type": "stream",
          "name": "stdout",
          "text": [
            "[('india', 14), ('south', 4), ('indian', 4), ('emerg', 4), ('countri', 3), ('asia', 3), ('bce', 3), ('languag', 3), ('northern', 3), ('empir', 3)]\n"
          ]
        },
        {
          "output_type": "execute_result",
          "data": {
            "text/plain": [
              "248"
            ]
          },
          "metadata": {},
          "execution_count": 21
        }
      ]
    },
    {
      "cell_type": "code",
      "source": [
        "# Data\n",
        "\n",
        "k = 10\n",
        "top_words = sorted(freqTable.items(), key=lambda x: x[1], reverse=False)[-k:]\n",
        "words = [word[0] for word in top_words]\n",
        "frequencies = [word[1] for word in top_words]\n",
        "\n",
        "\n",
        "colors = ['#59D0FB', '#554DDE']\n",
        "cmap = LinearSegmentedColormap.from_list('custom_gradient', colors)\n",
        "\n",
        "plt.figure(figsize=(8,5))  # Adjust figsize for better aspect ratio\n",
        "bars = plt.barh(words, frequencies, color=cmap(np.linspace(0, 1, len(words))))\n",
        "\n",
        "for bar, frequency in zip(bars, frequencies):\n",
        "    plt.text(bar.get_width() + 0.1, bar.get_y() + bar.get_height()/2, f'{frequency}',\n",
        "             va='center', ha='left', fontsize=8)\n",
        "\n",
        "# Add title and labels\n",
        "plt.title(f'Top {k} Most Frequent Words')\n",
        "plt.xlabel('Frequency')\n",
        "plt.ylabel('Words')\n",
        "\n",
        "# Show plot\n",
        "plt.tight_layout()\n",
        "plt.show()"
      ],
      "metadata": {
        "colab": {
          "base_uri": "https://localhost:8080/",
          "height": 507
        },
        "id": "l3hHSh5fy5ZV",
        "outputId": "04d4c172-5bac-42eb-bbc6-e168274e1b04"
      },
      "execution_count": null,
      "outputs": [
        {
          "output_type": "display_data",
          "data": {
            "text/plain": [
              "<Figure size 800x500 with 1 Axes>"
            ],
            "image/png": "[encoded data removed]"
          },
          "metadata": {}
        }
      ]
    },
    {
      "cell_type": "code",
      "source": [
        "import seaborn as sns\n",
        "\n",
        "\n",
        "word_list = words\n",
        "\n",
        "similarity_matrix = np.zeros((len(word_list), len(word_list)))\n",
        "for i, word1 in enumerate(word_list):\n",
        "    for j, word2 in enumerate(word_list):\n",
        "        if i != j:\n",
        "            similarity_matrix[i, j] = nlp(word1).similarity(nlp(word2))\n",
        "\n",
        "# Plot heatmap\n",
        "plt.figure(figsize=(8, 6))\n",
        "sns.heatmap(similarity_matrix, annot=True, xticklabels=word_list, yticklabels=word_list, cmap=\"YlGnBu\")\n",
        "plt.title(\"Word Similarity Heatmap\")\n",
        "plt.xlabel(\"Words\")\n",
        "plt.ylabel(\"Words\")\n",
        "plt.xticks(rotation=45)\n",
        "plt.yticks(rotation=0)\n",
        "plt.show()"
      ],
      "metadata": {
        "colab": {
          "base_uri": "https://localhost:8080/",
          "height": 657
        },
        "id": "urM96eO6zVql",
        "outputId": "a2bb53dd-5f16-4a65-8c64-286c7aa75d7a"
      },
      "execution_count": null,
      "outputs": [
        {
          "output_type": "stream",
          "name": "stderr",
          "text": [
            "<ipython-input-24-01a48f85826a>:10: UserWarning: [W007] The model you're using has no word vectors loaded, so the result of the Doc.similarity method will be based on the tagger, parser and NER, which may not give useful similarity judgements. This may happen if you're using one of the small models, e.g. `en_core_web_sm`, which don't ship with word vectors and only use context-sensitive tensors. You can always add your own word vectors, or use one of the larger models instead if available.\n",
            "  similarity_matrix[i, j] = nlp(word1).similarity(nlp(word2))\n"
          ]
        },
        {
          "output_type": "display_data",
          "data": {
            "text/plain": [
              "<Figure size 800x600 with 2 Axes>"
            ],
            "image/png": "[encoded data removed]"
          },
          "metadata": {}
        }
      ]
    },
    {
      "cell_type": "code",
      "source": [
        "# Sentence Length Distribution\n",
        "\n",
        "# Creating a dictionary to keep the score of each sentence\n",
        "sentence_weight = dict()\n",
        "for sentence in sentences:\n",
        "    # print(sentence,'\\n')\n",
        "    for word, freq in freqTable.items():\n",
        "        # print('\\n' , word, freq)\n",
        "        if word in sentence.lower():\n",
        "            # print('sentence_weight    ',sentence_weight)\n",
        "            if sentence in sentence_weight:\n",
        "                sentence_weight[sentence] += freq\n",
        "            else:\n",
        "                sentence_weight[sentence] = freq"
      ],
      "metadata": {
        "id": "0Z0F0wJLzqXX"
      },
      "execution_count": null,
      "outputs": []
    },
    {
      "cell_type": "code",
      "source": [
        "# Calculate the length of each sentence in terms of the number of words\n",
        "sentence_lengths = [len(word_tokenize(sentence)) for sentence in sentences]\n",
        "print(sentence_lengths)"
      ],
      "metadata": {
        "colab": {
          "base_uri": "https://localhost:8080/"
        },
        "id": "kPipjMSQ2Vg1",
        "outputId": "89c77ec5-4195-4774-e61d-b43c5b952fc1"
      },
      "execution_count": null,
      "outputs": [
        {
          "output_type": "stream",
          "name": "stdout",
          "text": [
            "[24, 22, 56, 31, 16, 32, 35, 42, 15, 34, 21, 40, 26, 25, 33, 21, 14, 28, 30, 10, 31, 29]\n"
          ]
        }
      ]
    },
    {
      "cell_type": "code",
      "source": [
        "mean_length = np.mean(sentence_lengths)\n",
        "std_dev = np.std(sentence_lengths)\n",
        "\n",
        "\n",
        "plt.figure(figsize=(8, 6))\n",
        "plt.hist(sentence_lengths, bins=range(min(sentence_lengths), max(sentence_lengths) + 1, 1), color='skyblue', edgecolor='black')\n",
        "plt.title('Sentence Length Distribution')\n",
        "plt.xlabel('Number of Words')\n",
        "plt.ylabel('Frequency')\n",
        "plt.grid(True)\n",
        "# Show plot\n",
        "plt.show()"
      ],
      "metadata": {
        "colab": {
          "base_uri": "https://localhost:8080/",
          "height": 564
        },
        "id": "9vEuwbX52ZLM",
        "outputId": "2a937e08-5ab4-42ff-f333-4639039927f2"
      },
      "execution_count": null,
      "outputs": [
        {
          "output_type": "display_data",
          "data": {
            "text/plain": [
              "<Figure size 800x600 with 1 Axes>"
            ],
            "image/png": "[encoded data removed]"
          },
          "metadata": {}
        }
      ]
    },
    {
      "cell_type": "code",
      "source": [
        "sumValues = 0\n",
        "for sentence in sentence_weight:\n",
        "    sumValues += sentence_weight[sentence]\n",
        "sumValues"
      ],
      "metadata": {
        "colab": {
          "base_uri": "https://localhost:8080/"
        },
        "id": "LiDz6jDx2fuu",
        "outputId": "9644ab30-10b1-4b3e-bf45-1a9717cd04e2"
      },
      "execution_count": null,
      "outputs": [
        {
          "output_type": "execute_result",
          "data": {
            "text/plain": [
              "682"
            ]
          },
          "metadata": {},
          "execution_count": 28
        }
      ]
    },
    {
      "cell_type": "code",
      "source": [
        "average = int(sumValues / len(sentence_weight))\n",
        "# print(average,sumValues,len(sentence_weight),sep='\\n\\n')\n",
        "average"
      ],
      "metadata": {
        "colab": {
          "base_uri": "https://localhost:8080/"
        },
        "id": "o2GHivQy2mhZ",
        "outputId": "91f16438-5fa1-4972-bf3a-4a6e03236fcc"
      },
      "execution_count": null,
      "outputs": [
        {
          "output_type": "execute_result",
          "data": {
            "text/plain": [
              "31"
            ]
          },
          "metadata": {},
          "execution_count": 29
        }
      ]
    },
    {
      "cell_type": "code",
      "source": [
        "## TF-IDF Summarizer"
      ],
      "metadata": {
        "id": "ZbRqE4uK2n1V"
      },
      "execution_count": null,
      "outputs": []
    },
    {
      "cell_type": "code",
      "source": [
        "def remove_special_characters(text):\n",
        "    regex = r'[^a-zA-Z0-9\\s]'\n",
        "    text = re.sub(regex,'',text)\n",
        "    return text"
      ],
      "metadata": {
        "id": "E5LpwVK2J4li"
      },
      "execution_count": null,
      "outputs": []
    },
    {
      "cell_type": "code",
      "source": [
        "def freq(words):\n",
        "    words = [word.lower() for word in words]\n",
        "    freqTable = {}\n",
        "    words_unique = []\n",
        "    for word in words:\n",
        "        if word not in words_unique:\n",
        "            words_unique.append(word)\n",
        "    for word in words_unique:\n",
        "        freqTable[word] = words.count(word)\n",
        "    return freqTable"
      ],
      "metadata": {
        "id": "LVbyTGspJ7Jv"
      },
      "execution_count": null,
      "outputs": []
    },
    {
      "cell_type": "code",
      "source": [
        "def tf_score(word,sentence):\n",
        "    freq_sum = 0\n",
        "    word_frequency_in_sentence = 0\n",
        "    len_sentence = len(sentence)\n",
        "    for word_in_sentence in sentence.split():\n",
        "        if word == word_in_sentence:\n",
        "            word_frequency_in_sentence = word_frequency_in_sentence + 1\n",
        "    tf =  word_frequency_in_sentence/ len_sentence\n",
        "    return tf"
      ],
      "metadata": {
        "id": "jbE3RTgDKClf"
      },
      "execution_count": null,
      "outputs": []
    },
    {
      "cell_type": "code",
      "source": [
        "def idf_score(no_of_sentences,word,sentences):\n",
        "    no_of_sentence_containing_word = 0\n",
        "    for sentence in sentences:\n",
        "        sentence = remove_special_characters(str(sentence))\n",
        "        sentence = re.sub(r'\\d+', '', sentence)\n",
        "        sentence = sentence.split()\n",
        "        sentence = [word for word in sentence if word.lower() not in Stopwords and len(word)>1]\n",
        "        sentence = [word.lower() for word in sentence]\n",
        "        sentence = [wordlemmatizer.lemmatize(word) for word in sentence]\n",
        "        if word in sentence:\n",
        "            no_of_sentence_containing_word = no_of_sentence_containing_word + 1\n",
        "    idf = math.log10(no_of_sentences/no_of_sentence_containing_word)\n",
        "    return idf"
      ],
      "metadata": {
        "id": "GMkmBrslKGmN"
      },
      "execution_count": null,
      "outputs": []
    },
    {
      "cell_type": "code",
      "source": [
        "# POS Tagging"
      ],
      "metadata": {
        "id": "TcpV9F9bKLgU"
      },
      "execution_count": null,
      "outputs": []
    },
    {
      "cell_type": "code",
      "source": [
        "def pos_tagging(text):\n",
        "    pos_tag = nltk.pos_tag(text.split())\n",
        "    pos_tagged_noun_verb = []\n",
        "    for word,tag in pos_tag:\n",
        "        if tag == \"NN\" or tag == \"NNP\" or tag == \"NNS\" or tag == \"VB\" or tag == \"VBD\" or tag == \"VBG\" or tag == \"VBN\" or tag == \"VBP\" or tag == \"VBZ\":\n",
        "            pos_tagged_noun_verb.append(word)\n",
        "    return pos_tagged_noun_verb"
      ],
      "metadata": {
        "id": "oMKNssJHKhx7"
      },
      "execution_count": null,
      "outputs": []
    },
    {
      "cell_type": "code",
      "source": [
        "def tf_idf_score(tf,idf):\n",
        "    return tf*idf"
      ],
      "metadata": {
        "id": "DL4I3FJOKjd7"
      },
      "execution_count": null,
      "outputs": []
    },
    {
      "cell_type": "code",
      "source": [
        "# Term Score"
      ],
      "metadata": {
        "id": "7h6jfKg6KlzD"
      },
      "execution_count": null,
      "outputs": []
    },
    {
      "cell_type": "code",
      "source": [
        "def word_tfidf(freqTable,word,sentences,sentence):\n",
        "    word_tfidf = []\n",
        "    tf = tf_score(word,sentence)\n",
        "    idf = idf_score(len(sentences),word,sentences)\n",
        "    tf_idf = tf_idf_score(tf,idf)\n",
        "    return tf_idf"
      ],
      "metadata": {
        "id": "Rg8K1HonKoNn"
      },
      "execution_count": null,
      "outputs": []
    },
    {
      "cell_type": "code",
      "source": [
        "def sentence_importance(sentence,freqTable,sentences):\n",
        "    sentence_score = 0\n",
        "    sentence = remove_special_characters(str(sentence))\n",
        "    sentence = re.sub(r'\\d+', '', sentence)\n",
        "    pos_tagged_sentence = []\n",
        "    no_of_sentences = len(sentences)\n",
        "    pos_tagged_sentence = pos_tagging(sentence)\n",
        "    for word in pos_tagged_sentence:\n",
        "        if word.lower() not in Stopwords and word not in Stopwords and len(word)>1:\n",
        "            word = word.lower()\n",
        "            word = wordlemmatizer.lemmatize(word)\n",
        "            sentence_score = sentence_score + word_tfidf(freqTable,word,sentences,sentence)\n",
        "    return sentence_score"
      ],
      "metadata": {
        "id": "fn5RwAcBKqKN"
      },
      "execution_count": null,
      "outputs": []
    },
    {
      "cell_type": "code",
      "source": [
        "word_freq = freqTable"
      ],
      "metadata": {
        "id": "ZgkY3oukKuLg"
      },
      "execution_count": null,
      "outputs": []
    },
    {
      "cell_type": "code",
      "source": [
        "# Input Ratio of Summarization"
      ],
      "metadata": {
        "id": "JUCuJqjIKxXD"
      },
      "execution_count": null,
      "outputs": []
    },
    {
      "cell_type": "code",
      "source": [
        "print(len(sentences))\n",
        "input_user = int(input('Percentage of information to retain(in percent):'))\n",
        "no_of_sentences = int((input_user * len(sentences))/100)\n",
        "print(no_of_sentences)"
      ],
      "metadata": {
        "id": "FMrhbi0_K0nE",
        "colab": {
          "base_uri": "https://localhost:8080/"
        },
        "outputId": "ae16de0c-7cb5-403e-c2fd-15085e841c4b"
      },
      "execution_count": null,
      "outputs": [
        {
          "output_type": "stream",
          "name": "stdout",
          "text": [
            "22\n",
            "Percentage of information to retain(in percent):50\n",
            "11\n"
          ]
        }
      ]
    },
    {
      "cell_type": "code",
      "source": [
        "c = 1\n",
        "sentence_with_importance = {}\n",
        "for sent in sentences:\n",
        "    sentenceimp = sentence_importance(sent,word_freq,sentences)\n",
        "    sentence_with_importance[c] = sentenceimp\n",
        "    c = c+1"
      ],
      "metadata": {
        "id": "GXJ4NTlELFqt"
      },
      "execution_count": null,
      "outputs": []
    },
    {
      "cell_type": "code",
      "source": [
        "sentence_with_importance = sorted(sentence_with_importance.items(), key=operator.itemgetter(1),reverse=True)"
      ],
      "metadata": {
        "id": "NOaoPSYmLOdK"
      },
      "execution_count": null,
      "outputs": []
    },
    {
      "cell_type": "code",
      "source": [
        "cnt = 0\n",
        "summary = []\n",
        "sentence_no = []\n",
        "for word_prob in sentence_with_importance:\n",
        "    if cnt < no_of_sentences:\n",
        "        sentence_no.append(word_prob[0])\n",
        "        cnt = cnt+1\n",
        "    else:\n",
        "        break\n",
        "sentence_no.sort()\n",
        "cnt = 1\n",
        "for sentence in sentences:\n",
        "    if cnt in sentence_no:\n",
        "        summary.append(sentence)\n",
        "        summary.append('\\n')\n",
        "    cnt = cnt+1"
      ],
      "metadata": {
        "id": "vpShCpBILQi0"
      },
      "execution_count": null,
      "outputs": []
    },
    {
      "cell_type": "code",
      "source": [
        "# Summary\n",
        "summary = \" \".join(summary)\n",
        "print(\"\\n\")\n",
        "print(\"Summary:\")\n",
        "print(summary)"
      ],
      "metadata": {
        "colab": {
          "base_uri": "https://localhost:8080/"
        },
        "id": "PTm_gjyALTZv",
        "outputId": "33fc5b71-f21d-4f0e-9d36-830dd2eeae5f"
      },
      "execution_count": null,
      "outputs": [
        {
          "output_type": "stream",
          "name": "stdout",
          "text": [
            "\n",
            "\n",
            "Summary:\n",
            "It is the second-most populous country, the seventh-largest country by area, and the most populous democracy in the world. \n",
            " [24] Their long occupation, initially in varying forms of isolation as hunter-gatherers, has made the region highly diverse, second only to Africa in human genetic diversity. \n",
            " [26] By 1200 BCE, an archaic form of Sanskrit, an Indo-European language, had diffused into India from the northwest, unfolding as the language of the Rigveda, and recording the dawning of Hinduism in India. \n",
            " [28] By 400 BCE, stratification and exclusion by caste had emerged within Hinduism,[29] and Buddhism and Jainism had arisen, proclaiming social orders unlinked to heredity. \n",
            " [31] Their collective era was suffused with wide-ranging creativity,[32] but also marked by the declining status of women,[33] and the incorporation of untouchability into an organised system of belief. \n",
            " [39] In the Punjab, Sikhism emerged, rejecting institutionalised religion. \n",
            " [40] The Mughal Empire, in 1526, ushered in two centuries of relative peace,[41] leaving a legacy of luminous architecture. \n",
            " [h][42] Gradually expanding rule of the British East India Company followed, turning India into a colonial economy, but also consolidating its sovereignty. \n",
            " [43] British Crown rule began in 1858. \n",
            " The rights promised to Indians were granted slowly,[44] but technological changes were introduced, and ideas of education, modernity and the public life took root. \n",
            " [45] A pioneering and influential nationalist movement emerged,[46] which was noted for nonviolent resistance and led India to its independence in 1947. \n",
            "\n"
          ]
        }
      ]
    },
    {
      "cell_type": "code",
      "source": [
        "## Word Embedding Summarizer (Word2Vec)"
      ],
      "metadata": {
        "id": "UHdibP2CLZAl"
      },
      "execution_count": null,
      "outputs": []
    },
    {
      "cell_type": "code",
      "source": [
        "!pip install opendatasets\n",
        "import opendatasets as od\n",
        "od.download(r'https://www.kaggle.com/datasets/sawarn69/glove6b100dtxt?select=glove.6B.100d.txt')"
      ],
      "metadata": {
        "colab": {
          "base_uri": "https://localhost:8080/"
        },
        "id": "N0NBTT7AMC6B",
        "outputId": "b54e1416-9230-4f40-b85a-f9d4a704b804"
      },
      "execution_count": null,
      "outputs": [
        {
          "output_type": "stream",
          "name": "stdout",
          "text": [
            "Collecting opendatasets\n",
            "  Downloading opendatasets-0.1.22-py3-none-any.whl (15 kB)\n",
            "Requirement already satisfied: tqdm in /usr/local/lib/python3.10/dist-packages (from opendatasets) (4.66.4)\n",
            "Requirement already satisfied: kaggle in /usr/local/lib/python3.10/dist-packages (from opendatasets) (1.6.12)\n",
            "Requirement already satisfied: click in /usr/local/lib/python3.10/dist-packages (from opendatasets) (8.1.7)\n",
            "Requirement already satisfied: six>=1.10 in /usr/local/lib/python3.10/dist-packages (from kaggle->opendatasets) (1.16.0)\n",
            "Requirement already satisfied: certifi>=2023.7.22 in /usr/local/lib/python3.10/dist-packages (from kaggle->opendatasets) (2024.2.2)\n",
            "Requirement already satisfied: python-dateutil in /usr/local/lib/python3.10/dist-packages (from kaggle->opendatasets) (2.8.2)\n",
            "Requirement already satisfied: requests in /usr/local/lib/python3.10/dist-packages (from kaggle->opendatasets) (2.31.0)\n",
            "Requirement already satisfied: python-slugify in /usr/local/lib/python3.10/dist-packages (from kaggle->opendatasets) (8.0.4)\n",
            "Requirement already satisfied: urllib3 in /usr/local/lib/python3.10/dist-packages (from kaggle->opendatasets) (2.0.7)\n",
            "Requirement already satisfied: bleach in /usr/local/lib/python3.10/dist-packages (from kaggle->opendatasets) (6.1.0)\n",
            "Requirement already satisfied: webencodings in /usr/local/lib/python3.10/dist-packages (from bleach->kaggle->opendatasets) (0.5.1)\n",
            "Requirement already satisfied: text-unidecode>=1.3 in /usr/local/lib/python3.10/dist-packages (from python-slugify->kaggle->opendatasets) (1.3)\n",
            "Requirement already satisfied: charset-normalizer<4,>=2 in /usr/local/lib/python3.10/dist-packages (from requests->kaggle->opendatasets) (3.3.2)\n",
            "Requirement already satisfied: idna<4,>=2.5 in /usr/local/lib/python3.10/dist-packages (from requests->kaggle->opendatasets) (3.7)\n",
            "Installing collected packages: opendatasets\n",
            "Successfully installed opendatasets-0.1.22\n",
            "Please provide your Kaggle credentials to download this dataset. Learn more: http://bit.ly/kaggle-creds\n",
            "Your Kaggle username: dhiraj2811\n",
            "Your Kaggle Key: ··········\n",
            "Dataset URL: https://www.kaggle.com/datasets/sawarn69/glove6b100dtxt\n",
            "Downloading glove6b100dtxt.zip to ./glove6b100dtxt\n"
          ]
        },
        {
          "output_type": "stream",
          "name": "stderr",
          "text": [
            "100%|██████████| 131M/131M [00:01<00:00, 81.6MB/s]\n"
          ]
        },
        {
          "output_type": "stream",
          "name": "stdout",
          "text": [
            "\n"
          ]
        }
      ]
    },
    {
      "cell_type": "code",
      "source": [
        "from gensim.scripts.glove2word2vec import glove2word2vec\n",
        "glove_input_file = r\"/content/glove6b100dtxt/glove.6B.100d.txt\""
      ],
      "metadata": {
        "id": "6DeN4Mj1Mwq7"
      },
      "execution_count": null,
      "outputs": []
    },
    {
      "cell_type": "code",
      "source": [
        "# Extract word vectors\n",
        "word_embeddings = {}\n",
        "f = open(glove_input_file, encoding='utf-8')\n",
        "for line in f:\n",
        "    values = line.split()\n",
        "    word = values[0]\n",
        "    coefs = np.asarray(values[1:], dtype='float32')\n",
        "    word_embeddings[word] = coefs\n",
        "f.close()"
      ],
      "metadata": {
        "id": "TDT3gY2FNbRD"
      },
      "execution_count": null,
      "outputs": []
    },
    {
      "cell_type": "code",
      "source": [
        "len(word_embeddings)"
      ],
      "metadata": {
        "colab": {
          "base_uri": "https://localhost:8080/"
        },
        "id": "TOQnqJcANfwR",
        "outputId": "62008bff-839e-4ebd-ae74-27a227ccd6a1"
      },
      "execution_count": null,
      "outputs": [
        {
          "output_type": "execute_result",
          "data": {
            "text/plain": [
              "400000"
            ]
          },
          "metadata": {},
          "execution_count": 59
        }
      ]
    },
    {
      "cell_type": "code",
      "source": [
        "type(word_embeddings)"
      ],
      "metadata": {
        "colab": {
          "base_uri": "https://localhost:8080/"
        },
        "id": "emsUIrT-PSLn",
        "outputId": "2aa237f9-0a2d-41d1-9b15-c604731e16bf"
      },
      "execution_count": null,
      "outputs": [
        {
          "output_type": "execute_result",
          "data": {
            "text/plain": [
              "dict"
            ]
          },
          "metadata": {},
          "execution_count": 60
        }
      ]
    },
    {
      "cell_type": "code",
      "source": [
        "word_embeddings['the'].shape"
      ],
      "metadata": {
        "colab": {
          "base_uri": "https://localhost:8080/"
        },
        "id": "OlMkURvNPVC9",
        "outputId": "278c61ad-159f-4386-f99c-64e4194232b4"
      },
      "execution_count": null,
      "outputs": [
        {
          "output_type": "execute_result",
          "data": {
            "text/plain": [
              "(100,)"
            ]
          },
          "metadata": {},
          "execution_count": 62
        }
      ]
    },
    {
      "cell_type": "code",
      "source": [
        "word_embeddings['the']"
      ],
      "metadata": {
        "colab": {
          "base_uri": "https://localhost:8080/"
        },
        "id": "8RHxosyyPXIj",
        "outputId": "8820ab38-1168-4b30-e475-953ea45f067e"
      },
      "execution_count": null,
      "outputs": [
        {
          "output_type": "execute_result",
          "data": {
            "text/plain": [
              "array([-0.038194, -0.24487 ,  0.72812 , -0.39961 ,  0.083172,  0.043953,\n",
              "       -0.39141 ,  0.3344  , -0.57545 ,  0.087459,  0.28787 , -0.06731 ,\n",
              "        0.30906 , -0.26384 , -0.13231 , -0.20757 ,  0.33395 , -0.33848 ,\n",
              "       -0.31743 , -0.48336 ,  0.1464  , -0.37304 ,  0.34577 ,  0.052041,\n",
              "        0.44946 , -0.46971 ,  0.02628 , -0.54155 , -0.15518 , -0.14107 ,\n",
              "       -0.039722,  0.28277 ,  0.14393 ,  0.23464 , -0.31021 ,  0.086173,\n",
              "        0.20397 ,  0.52624 ,  0.17164 , -0.082378, -0.71787 , -0.41531 ,\n",
              "        0.20335 , -0.12763 ,  0.41367 ,  0.55187 ,  0.57908 , -0.33477 ,\n",
              "       -0.36559 , -0.54857 , -0.062892,  0.26584 ,  0.30205 ,  0.99775 ,\n",
              "       -0.80481 , -3.0243  ,  0.01254 , -0.36942 ,  2.2167  ,  0.72201 ,\n",
              "       -0.24978 ,  0.92136 ,  0.034514,  0.46745 ,  1.1079  , -0.19358 ,\n",
              "       -0.074575,  0.23353 , -0.052062, -0.22044 ,  0.057162, -0.15806 ,\n",
              "       -0.30798 , -0.41625 ,  0.37972 ,  0.15006 , -0.53212 , -0.2055  ,\n",
              "       -1.2526  ,  0.071624,  0.70565 ,  0.49744 , -0.42063 ,  0.26148 ,\n",
              "       -1.538   , -0.30223 , -0.073438, -0.28312 ,  0.37104 , -0.25217 ,\n",
              "        0.016215, -0.017099, -0.38984 ,  0.87424 , -0.72569 , -0.51058 ,\n",
              "       -0.52028 , -0.1459  ,  0.8278  ,  0.27062 ], dtype=float32)"
            ]
          },
          "metadata": {},
          "execution_count": 63
        }
      ]
    },
    {
      "cell_type": "code",
      "source": [
        "sentence_vectors = []\n",
        "for i in sentences:\n",
        "    if len(i) != 0:\n",
        "        v = sum([word_embeddings.get(w, np.zeros((100,))) for w in i.split()])/(len(i.split())+0.001)\n",
        "    else:\n",
        "        v = np.zeros((100,))\n",
        "    sentence_vectors.append(v)"
      ],
      "metadata": {
        "id": "-llSljxnPfp8"
      },
      "execution_count": null,
      "outputs": []
    },
    {
      "cell_type": "code",
      "source": [
        "len(sentence_vectors)"
      ],
      "metadata": {
        "colab": {
          "base_uri": "https://localhost:8080/"
        },
        "id": "XZu4d9e2Ppcs",
        "outputId": "4f438204-6e36-47c5-b28a-d7367f292ce6"
      },
      "execution_count": null,
      "outputs": [
        {
          "output_type": "execute_result",
          "data": {
            "text/plain": [
              "22"
            ]
          },
          "metadata": {},
          "execution_count": 65
        }
      ]
    },
    {
      "cell_type": "code",
      "source": [
        "sentence_vectors[21].shape"
      ],
      "metadata": {
        "colab": {
          "base_uri": "https://localhost:8080/"
        },
        "id": "fR8wSZbPPrAH",
        "outputId": "743c263e-3e1b-48ca-d933-329c40edf6ed"
      },
      "execution_count": null,
      "outputs": [
        {
          "output_type": "execute_result",
          "data": {
            "text/plain": [
              "(100,)"
            ]
          },
          "metadata": {},
          "execution_count": 66
        }
      ]
    },
    {
      "cell_type": "code",
      "source": [
        "# similarity matrix\n",
        "sim_mat = np.zeros([len(sentences), len(sentences)])\n",
        "sim_mat.shape"
      ],
      "metadata": {
        "colab": {
          "base_uri": "https://localhost:8080/"
        },
        "id": "b1IkkE4kPtMC",
        "outputId": "033b194f-47eb-4e44-c9c6-ba22d617bbbf"
      },
      "execution_count": null,
      "outputs": [
        {
          "output_type": "execute_result",
          "data": {
            "text/plain": [
              "(22, 22)"
            ]
          },
          "metadata": {},
          "execution_count": 67
        }
      ]
    },
    {
      "cell_type": "code",
      "source": [
        "from sklearn.metrics.pairwise import cosine_similarity\n",
        "i=0\n",
        "j=1\n",
        "cosine_similarity(sentence_vectors[i].reshape(1,100), sentence_vectors[j].reshape(1,100))[0][0]"
      ],
      "metadata": {
        "colab": {
          "base_uri": "https://localhost:8080/"
        },
        "id": "v6KtdgeDPu7B",
        "outputId": "d10b18cc-f487-4642-f9cd-c9024af489e3"
      },
      "execution_count": null,
      "outputs": [
        {
          "output_type": "execute_result",
          "data": {
            "text/plain": [
              "0.9449960707155339"
            ]
          },
          "metadata": {},
          "execution_count": 68
        }
      ]
    },
    {
      "cell_type": "code",
      "source": [
        "for i in range(len(sentences)):\n",
        "    for j in range(len(sentences)):\n",
        "        if i != j:\n",
        "            sim_mat[i][j] = cosine_similarity(sentence_vectors[i].reshape(1,100), sentence_vectors[j].reshape(1,100))[0,0]\n",
        "\n",
        "print(sim_mat.shape)"
      ],
      "metadata": {
        "colab": {
          "base_uri": "https://localhost:8080/"
        },
        "id": "YNYTQOW_PzT7",
        "outputId": "606bf86b-a307-4923-ce86-c9aa26fd9d08"
      },
      "execution_count": null,
      "outputs": [
        {
          "output_type": "stream",
          "name": "stdout",
          "text": [
            "(22, 22)\n"
          ]
        }
      ]
    },
    {
      "cell_type": "code",
      "source": [
        "sim_mat[0,:]"
      ],
      "metadata": {
        "colab": {
          "base_uri": "https://localhost:8080/"
        },
        "id": "WCje9gLgP04X",
        "outputId": "21436c70-f5bf-4286-c0e6-6115350edcb7"
      },
      "execution_count": null,
      "outputs": [
        {
          "output_type": "execute_result",
          "data": {
            "text/plain": [
              "array([0.        , 0.94499607, 0.94273889, 0.95345026, 0.90506354,\n",
              "       0.95249092, 0.94273945, 0.9459276 , 0.90355584, 0.88586064,\n",
              "       0.9320364 , 0.94367209, 0.83804412, 0.91143434, 0.89436356,\n",
              "       0.93493989, 0.69889822, 0.92863387, 0.94035748, 0.8828298 ,\n",
              "       0.8949646 , 0.90081657])"
            ]
          },
          "metadata": {},
          "execution_count": 70
        }
      ]
    },
    {
      "cell_type": "code",
      "source": [
        "sim_mat[21,:]"
      ],
      "metadata": {
        "colab": {
          "base_uri": "https://localhost:8080/"
        },
        "id": "WiV5k_nsP3Gd",
        "outputId": "ff5514e4-8d23-4855-a0ca-4aa2a5878582"
      },
      "execution_count": null,
      "outputs": [
        {
          "output_type": "execute_result",
          "data": {
            "text/plain": [
              "array([0.90081657, 0.88119611, 0.90866105, 0.90846129, 0.86076209,\n",
              "       0.91555411, 0.87475077, 0.89306289, 0.86439808, 0.91226014,\n",
              "       0.93298373, 0.92377421, 0.83812433, 0.89953413, 0.87669507,\n",
              "       0.88341656, 0.68326797, 0.87206891, 0.90893394, 0.86859844,\n",
              "       0.92445495, 0.        ])"
            ]
          },
          "metadata": {},
          "execution_count": 71
        }
      ]
    },
    {
      "cell_type": "code",
      "source": [
        "# Summary"
      ],
      "metadata": {
        "id": "PIlqNM9dP56j"
      },
      "execution_count": null,
      "outputs": []
    },
    {
      "cell_type": "code",
      "source": [
        "ranked_sentences = sorted(((scores[i],s) for i,s in enumerate(sentences)), reverse=True)"
      ],
      "metadata": {
        "id": "jmwThzonQBao"
      },
      "execution_count": null,
      "outputs": []
    },
    {
      "cell_type": "code",
      "source": [
        "# Specify number of sentences to form the summary\n",
        "sn = 11\n",
        "# Generate summary\n",
        "for i in range(sn):\n",
        "    print(ranked_sentences[i][1])"
      ],
      "metadata": {
        "colab": {
          "base_uri": "https://localhost:8080/"
        },
        "id": "vqkorXLlQDdl",
        "outputId": "3a8fc960-60ea-456c-8f80-c08affcba0ad"
      },
      "execution_count": null,
      "outputs": [
        {
          "output_type": "stream",
          "name": "stdout",
          "text": [
            "[31] Their collective era was suffused with wide-ranging creativity,[32] but also marked by the declining status of women,[33] and the incorporation of untouchability into an organised system of belief.\n",
            "[26] By 1200 BCE, an archaic form of Sanskrit, an Indo-European language, had diffused into India from the northwest, unfolding as the language of the Rigveda, and recording the dawning of Hinduism in India.\n",
            "In the Indian Ocean, India is in the vicinity of Sri Lanka and the Maldives; its Andaman and Nicobar Islands share a maritime border with Thailand and Indonesia.\n",
            "[24] Their long occupation, initially in varying forms of isolation as hunter-gatherers, has made the region highly diverse, second only to Africa in human genetic diversity.\n",
            "Bounded by the Indian Ocean on the south, the Arabian Sea on the southwest, and the Bay of Bengal on the southeast, it shares land borders with Pakistan to the west;[f] China, Nepal, and Bhutan to the north; and Bangladesh and Myanmar to the east.\n",
            "[25] Settled life emerged on the subcontinent in the western margins of the Indus river basin 9,000 years ago, evolving gradually into the Indus Valley Civilisation of the third millennium BCE.\n",
            "[h][42] Gradually expanding rule of the British East India Company followed, turning India into a colonial economy, but also consolidating its sovereignty.\n",
            "[30] Early political consolidations gave rise to the loose-knit Maurya and Gupta Empires based in the Ganges Basin.\n",
            "India, officially the Republic of India (Hindi: Bhārat Gaṇarājya),[23] is a country in South Asia.\n",
            "In the early medieval era, Christianity, Islam, Judaism, and Zoroastrianism put down roots on India's southern and western coasts.\n",
            "The rights promised to Indians were granted slowly,[44] but technological changes were introduced, and ideas of education, modernity and the public life took root.\n"
          ]
        }
      ]
    },
    {
      "cell_type": "code",
      "source": [],
      "metadata": {
        "id": "CJkzRHcpQoKz"
      },
      "execution_count": null,
      "outputs": []
    }
  ]
}